{
 "cells": [
  {
   "cell_type": "markdown",
   "id": "af0b1594-fbb1-46b5-93ba-840f0f88f00e",
   "metadata": {},
   "source": [
    "# Introduction to  TMDB Movie Dataset\n",
    "\n",
    "The TMDB Movie Dataset is a comprehensive collection of movie data that provides valuable insights\n",
    "into the world of cinema. Comprising two main datasets, \"tmdb_5000_movies.csv\" and \n",
    "\"tmdb_5000_credits.csv,\" this dataset offers a wealth of information about thousands of movies, \n",
    "including details about their production, cast, crew, and user ratings.\n",
    "\n",
    "\"tmdb_5000_movies.csv\" contains essential information about each movie,\n",
    "including its title, genre, release date, budget, revenue, and user ratings. \n",
    "With this dataset, you can explore the financial performance, popularity, and critical \n",
    "reception of movies from various genres and time periods.\n",
    "\n",
    "\"tmdb_5000_credits.csv\" complements the movie dataset by providing detailed information about\n",
    "the cast and crew involved in each film. It includes data on actors, directors, producers, and more. This dataset enables you to analyze the contributions of different individuals to the film industry and study the collaborations between artists.\n",
    "\n",
    "Together, these datasets serve as a valuable resource for data analysis and\n",
    "research in the fields of film studies, data science, and entertainment industry analysis.\n",
    "Whether you're interested in understanding movie trends, exploring the influence of cast and crew on a film's success, or conducting data-driven investigations into the world of cinema, the TMDB Movie Dataset offers a rich and diverse source of information.\n",
    "\n",
    "Explore the dataset, extract meaningful insights, and uncover hidden patterns in the \n",
    "fascinating realm of movies with the TMDB Movie Dataset.\n",
    "\n",
    "\n",
    "\n",
    "\n",
    "\n",
    "\n"
   ]
  },
  {
   "cell_type": "markdown",
   "id": "795db1bc-d857-4f2c-a031-f8593c66da8f",
   "metadata": {},
   "source": [
    "# Import Libraries "
   ]
  },
  {
   "cell_type": "code",
   "execution_count": 1,
   "id": "8f1a330f-ab2f-4ef2-a875-b927dabe33ef",
   "metadata": {
    "tags": []
   },
   "outputs": [],
   "source": [
    "import pandas as pd \n",
    "import numpy as np  \n"
   ]
  },
  {
   "cell_type": "markdown",
   "id": "7c9aabd5-096d-4ef1-af9c-a1c46585d60c",
   "metadata": {
    "tags": []
   },
   "source": [
    "# Dataset"
   ]
  },
  {
   "cell_type": "code",
   "execution_count": 2,
   "id": "e733eee2-2b69-4421-bbf2-d4b8c051b12a",
   "metadata": {
    "tags": []
   },
   "outputs": [],
   "source": [
    "movies=pd.read_csv('tmdb_5000_movies.csv')\n",
    "credits=pd.read_csv('tmdb_5000_credits.csv')"
   ]
  },
  {
   "cell_type": "code",
   "execution_count": 3,
   "id": "5106b42e-3f9b-4497-b4dd-c8a67c614150",
   "metadata": {
    "tags": []
   },
   "outputs": [
    {
     "data": {
      "text/html": [
       "<div>\n",
       "<style scoped>\n",
       "    .dataframe tbody tr th:only-of-type {\n",
       "        vertical-align: middle;\n",
       "    }\n",
       "\n",
       "    .dataframe tbody tr th {\n",
       "        vertical-align: top;\n",
       "    }\n",
       "\n",
       "    .dataframe thead th {\n",
       "        text-align: right;\n",
       "    }\n",
       "</style>\n",
       "<table border=\"1\" class=\"dataframe\">\n",
       "  <thead>\n",
       "    <tr style=\"text-align: right;\">\n",
       "      <th></th>\n",
       "      <th>budget</th>\n",
       "      <th>genres</th>\n",
       "      <th>homepage</th>\n",
       "      <th>id</th>\n",
       "      <th>keywords</th>\n",
       "      <th>original_language</th>\n",
       "      <th>original_title</th>\n",
       "      <th>overview</th>\n",
       "      <th>popularity</th>\n",
       "      <th>production_companies</th>\n",
       "      <th>production_countries</th>\n",
       "      <th>release_date</th>\n",
       "      <th>revenue</th>\n",
       "      <th>runtime</th>\n",
       "      <th>spoken_languages</th>\n",
       "      <th>status</th>\n",
       "      <th>tagline</th>\n",
       "      <th>title</th>\n",
       "      <th>vote_average</th>\n",
       "      <th>vote_count</th>\n",
       "    </tr>\n",
       "  </thead>\n",
       "  <tbody>\n",
       "    <tr>\n",
       "      <th>0</th>\n",
       "      <td>237000000</td>\n",
       "      <td>[{\"id\": 28, \"name\": \"Action\"}, {\"id\": 12, \"nam...</td>\n",
       "      <td>http://www.avatarmovie.com/</td>\n",
       "      <td>19995</td>\n",
       "      <td>[{\"id\": 1463, \"name\": \"culture clash\"}, {\"id\":...</td>\n",
       "      <td>en</td>\n",
       "      <td>Avatar</td>\n",
       "      <td>In the 22nd century, a paraplegic Marine is di...</td>\n",
       "      <td>150.437577</td>\n",
       "      <td>[{\"name\": \"Ingenious Film Partners\", \"id\": 289...</td>\n",
       "      <td>[{\"iso_3166_1\": \"US\", \"name\": \"United States o...</td>\n",
       "      <td>2009-12-10</td>\n",
       "      <td>2787965087</td>\n",
       "      <td>162.0</td>\n",
       "      <td>[{\"iso_639_1\": \"en\", \"name\": \"English\"}, {\"iso...</td>\n",
       "      <td>Released</td>\n",
       "      <td>Enter the World of Pandora.</td>\n",
       "      <td>Avatar</td>\n",
       "      <td>7.2</td>\n",
       "      <td>11800</td>\n",
       "    </tr>\n",
       "    <tr>\n",
       "      <th>1</th>\n",
       "      <td>300000000</td>\n",
       "      <td>[{\"id\": 12, \"name\": \"Adventure\"}, {\"id\": 14, \"...</td>\n",
       "      <td>http://disney.go.com/disneypictures/pirates/</td>\n",
       "      <td>285</td>\n",
       "      <td>[{\"id\": 270, \"name\": \"ocean\"}, {\"id\": 726, \"na...</td>\n",
       "      <td>en</td>\n",
       "      <td>Pirates of the Caribbean: At World's End</td>\n",
       "      <td>Captain Barbossa, long believed to be dead, ha...</td>\n",
       "      <td>139.082615</td>\n",
       "      <td>[{\"name\": \"Walt Disney Pictures\", \"id\": 2}, {\"...</td>\n",
       "      <td>[{\"iso_3166_1\": \"US\", \"name\": \"United States o...</td>\n",
       "      <td>2007-05-19</td>\n",
       "      <td>961000000</td>\n",
       "      <td>169.0</td>\n",
       "      <td>[{\"iso_639_1\": \"en\", \"name\": \"English\"}]</td>\n",
       "      <td>Released</td>\n",
       "      <td>At the end of the world, the adventure begins.</td>\n",
       "      <td>Pirates of the Caribbean: At World's End</td>\n",
       "      <td>6.9</td>\n",
       "      <td>4500</td>\n",
       "    </tr>\n",
       "  </tbody>\n",
       "</table>\n",
       "</div>"
      ],
      "text/plain": [
       "      budget                                             genres  \\\n",
       "0  237000000  [{\"id\": 28, \"name\": \"Action\"}, {\"id\": 12, \"nam...   \n",
       "1  300000000  [{\"id\": 12, \"name\": \"Adventure\"}, {\"id\": 14, \"...   \n",
       "\n",
       "                                       homepage     id  \\\n",
       "0                   http://www.avatarmovie.com/  19995   \n",
       "1  http://disney.go.com/disneypictures/pirates/    285   \n",
       "\n",
       "                                            keywords original_language  \\\n",
       "0  [{\"id\": 1463, \"name\": \"culture clash\"}, {\"id\":...                en   \n",
       "1  [{\"id\": 270, \"name\": \"ocean\"}, {\"id\": 726, \"na...                en   \n",
       "\n",
       "                             original_title  \\\n",
       "0                                    Avatar   \n",
       "1  Pirates of the Caribbean: At World's End   \n",
       "\n",
       "                                            overview  popularity  \\\n",
       "0  In the 22nd century, a paraplegic Marine is di...  150.437577   \n",
       "1  Captain Barbossa, long believed to be dead, ha...  139.082615   \n",
       "\n",
       "                                production_companies  \\\n",
       "0  [{\"name\": \"Ingenious Film Partners\", \"id\": 289...   \n",
       "1  [{\"name\": \"Walt Disney Pictures\", \"id\": 2}, {\"...   \n",
       "\n",
       "                                production_countries release_date     revenue  \\\n",
       "0  [{\"iso_3166_1\": \"US\", \"name\": \"United States o...   2009-12-10  2787965087   \n",
       "1  [{\"iso_3166_1\": \"US\", \"name\": \"United States o...   2007-05-19   961000000   \n",
       "\n",
       "   runtime                                   spoken_languages    status  \\\n",
       "0    162.0  [{\"iso_639_1\": \"en\", \"name\": \"English\"}, {\"iso...  Released   \n",
       "1    169.0           [{\"iso_639_1\": \"en\", \"name\": \"English\"}]  Released   \n",
       "\n",
       "                                          tagline  \\\n",
       "0                     Enter the World of Pandora.   \n",
       "1  At the end of the world, the adventure begins.   \n",
       "\n",
       "                                      title  vote_average  vote_count  \n",
       "0                                    Avatar           7.2       11800  \n",
       "1  Pirates of the Caribbean: At World's End           6.9        4500  "
      ]
     },
     "execution_count": 3,
     "metadata": {},
     "output_type": "execute_result"
    }
   ],
   "source": [
    "movies.head(2)"
   ]
  },
  {
   "cell_type": "code",
   "execution_count": 4,
   "id": "064e2e09-d67e-4368-8574-c3693d16a4d4",
   "metadata": {
    "tags": []
   },
   "outputs": [
    {
     "data": {
      "text/html": [
       "<div>\n",
       "<style scoped>\n",
       "    .dataframe tbody tr th:only-of-type {\n",
       "        vertical-align: middle;\n",
       "    }\n",
       "\n",
       "    .dataframe tbody tr th {\n",
       "        vertical-align: top;\n",
       "    }\n",
       "\n",
       "    .dataframe thead th {\n",
       "        text-align: right;\n",
       "    }\n",
       "</style>\n",
       "<table border=\"1\" class=\"dataframe\">\n",
       "  <thead>\n",
       "    <tr style=\"text-align: right;\">\n",
       "      <th></th>\n",
       "      <th>movie_id</th>\n",
       "      <th>title</th>\n",
       "      <th>cast</th>\n",
       "      <th>crew</th>\n",
       "    </tr>\n",
       "  </thead>\n",
       "  <tbody>\n",
       "    <tr>\n",
       "      <th>0</th>\n",
       "      <td>19995</td>\n",
       "      <td>Avatar</td>\n",
       "      <td>[{\"cast_id\": 242, \"character\": \"Jake Sully\", \"...</td>\n",
       "      <td>[{\"credit_id\": \"52fe48009251416c750aca23\", \"de...</td>\n",
       "    </tr>\n",
       "    <tr>\n",
       "      <th>1</th>\n",
       "      <td>285</td>\n",
       "      <td>Pirates of the Caribbean: At World's End</td>\n",
       "      <td>[{\"cast_id\": 4, \"character\": \"Captain Jack Spa...</td>\n",
       "      <td>[{\"credit_id\": \"52fe4232c3a36847f800b579\", \"de...</td>\n",
       "    </tr>\n",
       "  </tbody>\n",
       "</table>\n",
       "</div>"
      ],
      "text/plain": [
       "   movie_id                                     title  \\\n",
       "0     19995                                    Avatar   \n",
       "1       285  Pirates of the Caribbean: At World's End   \n",
       "\n",
       "                                                cast  \\\n",
       "0  [{\"cast_id\": 242, \"character\": \"Jake Sully\", \"...   \n",
       "1  [{\"cast_id\": 4, \"character\": \"Captain Jack Spa...   \n",
       "\n",
       "                                                crew  \n",
       "0  [{\"credit_id\": \"52fe48009251416c750aca23\", \"de...  \n",
       "1  [{\"credit_id\": \"52fe4232c3a36847f800b579\", \"de...  "
      ]
     },
     "execution_count": 4,
     "metadata": {},
     "output_type": "execute_result"
    }
   ],
   "source": [
    "credits.head(2)"
   ]
  },
  {
   "cell_type": "code",
   "execution_count": null,
   "id": "bb61d24d-b8c2-4973-89ee-592369055a0e",
   "metadata": {},
   "outputs": [],
   "source": []
  },
  {
   "cell_type": "code",
   "execution_count": 5,
   "id": "68c7cd4a-07b5-4718-945c-19499b49be88",
   "metadata": {},
   "outputs": [],
   "source": [
    "# merge credits and movies on the base of title in column it will be same in both ."
   ]
  },
  {
   "cell_type": "code",
   "execution_count": 6,
   "id": "95c18747-563d-4e41-940f-9aef0064652c",
   "metadata": {},
   "outputs": [],
   "source": [
    "# assign a veriable movies in merge dataframe "
   ]
  },
  {
   "cell_type": "code",
   "execution_count": 7,
   "id": "bed4f4aa-8ff7-40f7-bdfa-0827a28568d7",
   "metadata": {
    "tags": []
   },
   "outputs": [],
   "source": [
    "movies= movies.merge(credits,on=\"title\")"
   ]
  },
  {
   "cell_type": "code",
   "execution_count": 8,
   "id": "05377304-d156-42a1-a72f-c63241374748",
   "metadata": {
    "tags": []
   },
   "outputs": [
    {
     "data": {
      "text/plain": [
       "Index(['budget', 'genres', 'homepage', 'id', 'keywords', 'original_language',\n",
       "       'original_title', 'overview', 'popularity', 'production_companies',\n",
       "       'production_countries', 'release_date', 'revenue', 'runtime',\n",
       "       'spoken_languages', 'status', 'tagline', 'title', 'vote_average',\n",
       "       'vote_count', 'movie_id', 'cast', 'crew'],\n",
       "      dtype='object')"
      ]
     },
     "execution_count": 8,
     "metadata": {},
     "output_type": "execute_result"
    }
   ],
   "source": [
    "movies.columns"
   ]
  },
  {
   "cell_type": "code",
   "execution_count": 9,
   "id": "f6fd2d71-ba88-4ff6-8696-6c1bb156a64e",
   "metadata": {
    "tags": []
   },
   "outputs": [
    {
     "data": {
      "text/html": [
       "<div>\n",
       "<style scoped>\n",
       "    .dataframe tbody tr th:only-of-type {\n",
       "        vertical-align: middle;\n",
       "    }\n",
       "\n",
       "    .dataframe tbody tr th {\n",
       "        vertical-align: top;\n",
       "    }\n",
       "\n",
       "    .dataframe thead th {\n",
       "        text-align: right;\n",
       "    }\n",
       "</style>\n",
       "<table border=\"1\" class=\"dataframe\">\n",
       "  <thead>\n",
       "    <tr style=\"text-align: right;\">\n",
       "      <th></th>\n",
       "      <th>budget</th>\n",
       "      <th>genres</th>\n",
       "      <th>homepage</th>\n",
       "      <th>id</th>\n",
       "      <th>keywords</th>\n",
       "      <th>original_language</th>\n",
       "      <th>original_title</th>\n",
       "      <th>overview</th>\n",
       "      <th>popularity</th>\n",
       "      <th>production_companies</th>\n",
       "      <th>...</th>\n",
       "      <th>runtime</th>\n",
       "      <th>spoken_languages</th>\n",
       "      <th>status</th>\n",
       "      <th>tagline</th>\n",
       "      <th>title</th>\n",
       "      <th>vote_average</th>\n",
       "      <th>vote_count</th>\n",
       "      <th>movie_id</th>\n",
       "      <th>cast</th>\n",
       "      <th>crew</th>\n",
       "    </tr>\n",
       "  </thead>\n",
       "  <tbody>\n",
       "    <tr>\n",
       "      <th>0</th>\n",
       "      <td>237000000</td>\n",
       "      <td>[{\"id\": 28, \"name\": \"Action\"}, {\"id\": 12, \"nam...</td>\n",
       "      <td>http://www.avatarmovie.com/</td>\n",
       "      <td>19995</td>\n",
       "      <td>[{\"id\": 1463, \"name\": \"culture clash\"}, {\"id\":...</td>\n",
       "      <td>en</td>\n",
       "      <td>Avatar</td>\n",
       "      <td>In the 22nd century, a paraplegic Marine is di...</td>\n",
       "      <td>150.437577</td>\n",
       "      <td>[{\"name\": \"Ingenious Film Partners\", \"id\": 289...</td>\n",
       "      <td>...</td>\n",
       "      <td>162.0</td>\n",
       "      <td>[{\"iso_639_1\": \"en\", \"name\": \"English\"}, {\"iso...</td>\n",
       "      <td>Released</td>\n",
       "      <td>Enter the World of Pandora.</td>\n",
       "      <td>Avatar</td>\n",
       "      <td>7.2</td>\n",
       "      <td>11800</td>\n",
       "      <td>19995</td>\n",
       "      <td>[{\"cast_id\": 242, \"character\": \"Jake Sully\", \"...</td>\n",
       "      <td>[{\"credit_id\": \"52fe48009251416c750aca23\", \"de...</td>\n",
       "    </tr>\n",
       "    <tr>\n",
       "      <th>1</th>\n",
       "      <td>300000000</td>\n",
       "      <td>[{\"id\": 12, \"name\": \"Adventure\"}, {\"id\": 14, \"...</td>\n",
       "      <td>http://disney.go.com/disneypictures/pirates/</td>\n",
       "      <td>285</td>\n",
       "      <td>[{\"id\": 270, \"name\": \"ocean\"}, {\"id\": 726, \"na...</td>\n",
       "      <td>en</td>\n",
       "      <td>Pirates of the Caribbean: At World's End</td>\n",
       "      <td>Captain Barbossa, long believed to be dead, ha...</td>\n",
       "      <td>139.082615</td>\n",
       "      <td>[{\"name\": \"Walt Disney Pictures\", \"id\": 2}, {\"...</td>\n",
       "      <td>...</td>\n",
       "      <td>169.0</td>\n",
       "      <td>[{\"iso_639_1\": \"en\", \"name\": \"English\"}]</td>\n",
       "      <td>Released</td>\n",
       "      <td>At the end of the world, the adventure begins.</td>\n",
       "      <td>Pirates of the Caribbean: At World's End</td>\n",
       "      <td>6.9</td>\n",
       "      <td>4500</td>\n",
       "      <td>285</td>\n",
       "      <td>[{\"cast_id\": 4, \"character\": \"Captain Jack Spa...</td>\n",
       "      <td>[{\"credit_id\": \"52fe4232c3a36847f800b579\", \"de...</td>\n",
       "    </tr>\n",
       "  </tbody>\n",
       "</table>\n",
       "<p>2 rows × 23 columns</p>\n",
       "</div>"
      ],
      "text/plain": [
       "      budget                                             genres  \\\n",
       "0  237000000  [{\"id\": 28, \"name\": \"Action\"}, {\"id\": 12, \"nam...   \n",
       "1  300000000  [{\"id\": 12, \"name\": \"Adventure\"}, {\"id\": 14, \"...   \n",
       "\n",
       "                                       homepage     id  \\\n",
       "0                   http://www.avatarmovie.com/  19995   \n",
       "1  http://disney.go.com/disneypictures/pirates/    285   \n",
       "\n",
       "                                            keywords original_language  \\\n",
       "0  [{\"id\": 1463, \"name\": \"culture clash\"}, {\"id\":...                en   \n",
       "1  [{\"id\": 270, \"name\": \"ocean\"}, {\"id\": 726, \"na...                en   \n",
       "\n",
       "                             original_title  \\\n",
       "0                                    Avatar   \n",
       "1  Pirates of the Caribbean: At World's End   \n",
       "\n",
       "                                            overview  popularity  \\\n",
       "0  In the 22nd century, a paraplegic Marine is di...  150.437577   \n",
       "1  Captain Barbossa, long believed to be dead, ha...  139.082615   \n",
       "\n",
       "                                production_companies  ... runtime  \\\n",
       "0  [{\"name\": \"Ingenious Film Partners\", \"id\": 289...  ...   162.0   \n",
       "1  [{\"name\": \"Walt Disney Pictures\", \"id\": 2}, {\"...  ...   169.0   \n",
       "\n",
       "                                    spoken_languages    status  \\\n",
       "0  [{\"iso_639_1\": \"en\", \"name\": \"English\"}, {\"iso...  Released   \n",
       "1           [{\"iso_639_1\": \"en\", \"name\": \"English\"}]  Released   \n",
       "\n",
       "                                          tagline  \\\n",
       "0                     Enter the World of Pandora.   \n",
       "1  At the end of the world, the adventure begins.   \n",
       "\n",
       "                                      title vote_average vote_count movie_id  \\\n",
       "0                                    Avatar          7.2      11800    19995   \n",
       "1  Pirates of the Caribbean: At World's End          6.9       4500      285   \n",
       "\n",
       "                                                cast  \\\n",
       "0  [{\"cast_id\": 242, \"character\": \"Jake Sully\", \"...   \n",
       "1  [{\"cast_id\": 4, \"character\": \"Captain Jack Spa...   \n",
       "\n",
       "                                                crew  \n",
       "0  [{\"credit_id\": \"52fe48009251416c750aca23\", \"de...  \n",
       "1  [{\"credit_id\": \"52fe4232c3a36847f800b579\", \"de...  \n",
       "\n",
       "[2 rows x 23 columns]"
      ]
     },
     "execution_count": 9,
     "metadata": {},
     "output_type": "execute_result"
    }
   ],
   "source": [
    "movies.head(2)"
   ]
  },
  {
   "cell_type": "code",
   "execution_count": 10,
   "id": "6445885a-c244-483f-8d8f-20c6d2b831f7",
   "metadata": {
    "tags": []
   },
   "outputs": [
    {
     "data": {
      "text/plain": [
       "(4809, 23)"
      ]
     },
     "execution_count": 10,
     "metadata": {},
     "output_type": "execute_result"
    }
   ],
   "source": [
    " movies.shape"
   ]
  },
  {
   "cell_type": "markdown",
   "id": "70c11e2b-7a24-40a2-a4ad-0fce6f55cdd7",
   "metadata": {},
   "source": [
    "# now iwill work on my weakness that is choose important columns"
   ]
  },
  {
   "cell_type": "code",
   "execution_count": 11,
   "id": "4d79cebf-a818-4d4e-ab4d-9041ee504f5c",
   "metadata": {},
   "outputs": [],
   "source": [
    "#geners \n",
    "#id\n",
    "#keyword \n",
    "#title \n",
    "#overview \n",
    "# caste \n",
    "#crew"
   ]
  },
  {
   "cell_type": "code",
   "execution_count": 12,
   "id": "b15e9852-9d28-41e7-b2ce-1dc009afdd70",
   "metadata": {},
   "outputs": [],
   "source": [
    "# now arrange columns in dataframe "
   ]
  },
  {
   "cell_type": "code",
   "execution_count": 13,
   "id": "93af6898-e0ad-4e88-83d4-1c6c066b7e25",
   "metadata": {
    "tags": []
   },
   "outputs": [
    {
     "name": "stdout",
     "output_type": "stream",
     "text": [
      "<class 'pandas.core.frame.DataFrame'>\n",
      "Int64Index: 4809 entries, 0 to 4808\n",
      "Data columns (total 23 columns):\n",
      " #   Column                Non-Null Count  Dtype  \n",
      "---  ------                --------------  -----  \n",
      " 0   budget                4809 non-null   int64  \n",
      " 1   genres                4809 non-null   object \n",
      " 2   homepage              1713 non-null   object \n",
      " 3   id                    4809 non-null   int64  \n",
      " 4   keywords              4809 non-null   object \n",
      " 5   original_language     4809 non-null   object \n",
      " 6   original_title        4809 non-null   object \n",
      " 7   overview              4806 non-null   object \n",
      " 8   popularity            4809 non-null   float64\n",
      " 9   production_companies  4809 non-null   object \n",
      " 10  production_countries  4809 non-null   object \n",
      " 11  release_date          4808 non-null   object \n",
      " 12  revenue               4809 non-null   int64  \n",
      " 13  runtime               4807 non-null   float64\n",
      " 14  spoken_languages      4809 non-null   object \n",
      " 15  status                4809 non-null   object \n",
      " 16  tagline               3965 non-null   object \n",
      " 17  title                 4809 non-null   object \n",
      " 18  vote_average          4809 non-null   float64\n",
      " 19  vote_count            4809 non-null   int64  \n",
      " 20  movie_id              4809 non-null   int64  \n",
      " 21  cast                  4809 non-null   object \n",
      " 22  crew                  4809 non-null   object \n",
      "dtypes: float64(3), int64(5), object(15)\n",
      "memory usage: 901.7+ KB\n"
     ]
    }
   ],
   "source": [
    "movies.info()"
   ]
  },
  {
   "cell_type": "code",
   "execution_count": 14,
   "id": "de0426b2-62fd-46e7-b436-d97414ad4640",
   "metadata": {
    "tags": []
   },
   "outputs": [
    {
     "data": {
      "text/html": [
       "<div>\n",
       "<style scoped>\n",
       "    .dataframe tbody tr th:only-of-type {\n",
       "        vertical-align: middle;\n",
       "    }\n",
       "\n",
       "    .dataframe tbody tr th {\n",
       "        vertical-align: top;\n",
       "    }\n",
       "\n",
       "    .dataframe thead th {\n",
       "        text-align: right;\n",
       "    }\n",
       "</style>\n",
       "<table border=\"1\" class=\"dataframe\">\n",
       "  <thead>\n",
       "    <tr style=\"text-align: right;\">\n",
       "      <th></th>\n",
       "      <th>genres</th>\n",
       "      <th>keywords</th>\n",
       "      <th>overview</th>\n",
       "      <th>title</th>\n",
       "      <th>movie_id</th>\n",
       "      <th>cast</th>\n",
       "      <th>crew</th>\n",
       "    </tr>\n",
       "  </thead>\n",
       "  <tbody>\n",
       "    <tr>\n",
       "      <th>0</th>\n",
       "      <td>[{\"id\": 28, \"name\": \"Action\"}, {\"id\": 12, \"nam...</td>\n",
       "      <td>[{\"id\": 1463, \"name\": \"culture clash\"}, {\"id\":...</td>\n",
       "      <td>In the 22nd century, a paraplegic Marine is di...</td>\n",
       "      <td>Avatar</td>\n",
       "      <td>19995</td>\n",
       "      <td>[{\"cast_id\": 242, \"character\": \"Jake Sully\", \"...</td>\n",
       "      <td>[{\"credit_id\": \"52fe48009251416c750aca23\", \"de...</td>\n",
       "    </tr>\n",
       "    <tr>\n",
       "      <th>1</th>\n",
       "      <td>[{\"id\": 12, \"name\": \"Adventure\"}, {\"id\": 14, \"...</td>\n",
       "      <td>[{\"id\": 270, \"name\": \"ocean\"}, {\"id\": 726, \"na...</td>\n",
       "      <td>Captain Barbossa, long believed to be dead, ha...</td>\n",
       "      <td>Pirates of the Caribbean: At World's End</td>\n",
       "      <td>285</td>\n",
       "      <td>[{\"cast_id\": 4, \"character\": \"Captain Jack Spa...</td>\n",
       "      <td>[{\"credit_id\": \"52fe4232c3a36847f800b579\", \"de...</td>\n",
       "    </tr>\n",
       "  </tbody>\n",
       "</table>\n",
       "</div>"
      ],
      "text/plain": [
       "                                              genres  \\\n",
       "0  [{\"id\": 28, \"name\": \"Action\"}, {\"id\": 12, \"nam...   \n",
       "1  [{\"id\": 12, \"name\": \"Adventure\"}, {\"id\": 14, \"...   \n",
       "\n",
       "                                            keywords  \\\n",
       "0  [{\"id\": 1463, \"name\": \"culture clash\"}, {\"id\":...   \n",
       "1  [{\"id\": 270, \"name\": \"ocean\"}, {\"id\": 726, \"na...   \n",
       "\n",
       "                                            overview  \\\n",
       "0  In the 22nd century, a paraplegic Marine is di...   \n",
       "1  Captain Barbossa, long believed to be dead, ha...   \n",
       "\n",
       "                                      title  movie_id  \\\n",
       "0                                    Avatar     19995   \n",
       "1  Pirates of the Caribbean: At World's End       285   \n",
       "\n",
       "                                                cast  \\\n",
       "0  [{\"cast_id\": 242, \"character\": \"Jake Sully\", \"...   \n",
       "1  [{\"cast_id\": 4, \"character\": \"Captain Jack Spa...   \n",
       "\n",
       "                                                crew  \n",
       "0  [{\"credit_id\": \"52fe48009251416c750aca23\", \"de...  \n",
       "1  [{\"credit_id\": \"52fe4232c3a36847f800b579\", \"de...  "
      ]
     },
     "execution_count": 14,
     "metadata": {},
     "output_type": "execute_result"
    }
   ],
   "source": [
    "movies= movies.drop(['budget','homepage','id','original_language','original_title','popularity','production_companies','production_countries','release_date','revenue','runtime','spoken_languages','status','tagline','vote_average','vote_count'],axis=1)\n",
    "movies.head(2)"
   ]
  },
  {
   "cell_type": "code",
   "execution_count": 15,
   "id": "074d7627-b344-421e-86d9-c4e4632ff783",
   "metadata": {
    "tags": []
   },
   "outputs": [
    {
     "name": "stdout",
     "output_type": "stream",
     "text": [
      "<class 'pandas.core.frame.DataFrame'>\n",
      "Int64Index: 4809 entries, 0 to 4808\n",
      "Data columns (total 7 columns):\n",
      " #   Column    Non-Null Count  Dtype \n",
      "---  ------    --------------  ----- \n",
      " 0   genres    4809 non-null   object\n",
      " 1   keywords  4809 non-null   object\n",
      " 2   overview  4806 non-null   object\n",
      " 3   title     4809 non-null   object\n",
      " 4   movie_id  4809 non-null   int64 \n",
      " 5   cast      4809 non-null   object\n",
      " 6   crew      4809 non-null   object\n",
      "dtypes: int64(1), object(6)\n",
      "memory usage: 300.6+ KB\n"
     ]
    }
   ],
   "source": [
    "movies.info()"
   ]
  },
  {
   "cell_type": "code",
   "execution_count": 16,
   "id": "9e7f931f-45df-4d06-bd3b-02ce7cd4cf5e",
   "metadata": {},
   "outputs": [],
   "source": [
    "# null values "
   ]
  },
  {
   "cell_type": "code",
   "execution_count": 17,
   "id": "295a81f7-12ac-4791-a714-389fd14d9ab1",
   "metadata": {
    "tags": []
   },
   "outputs": [
    {
     "data": {
      "text/plain": [
       "genres      0\n",
       "keywords    0\n",
       "overview    3\n",
       "title       0\n",
       "movie_id    0\n",
       "cast        0\n",
       "crew        0\n",
       "dtype: int64"
      ]
     },
     "execution_count": 17,
     "metadata": {},
     "output_type": "execute_result"
    }
   ],
   "source": [
    "movies.isnull().sum()"
   ]
  },
  {
   "cell_type": "code",
   "execution_count": 18,
   "id": "62979909-6ca1-4d59-82f8-e28cccf0291a",
   "metadata": {
    "tags": []
   },
   "outputs": [],
   "source": [
    "movies.dropna(inplace=True)"
   ]
  },
  {
   "cell_type": "code",
   "execution_count": 19,
   "id": "c022be58-7493-464a-8e96-520de2a64db0",
   "metadata": {
    "tags": []
   },
   "outputs": [
    {
     "data": {
      "text/plain": [
       "genres      0\n",
       "keywords    0\n",
       "overview    0\n",
       "title       0\n",
       "movie_id    0\n",
       "cast        0\n",
       "crew        0\n",
       "dtype: int64"
      ]
     },
     "execution_count": 19,
     "metadata": {},
     "output_type": "execute_result"
    }
   ],
   "source": [
    "movies.isnull().sum()"
   ]
  },
  {
   "cell_type": "code",
   "execution_count": 20,
   "id": "bdadcdd8-8d0c-4cb1-ad11-02e25f67e1c8",
   "metadata": {},
   "outputs": [],
   "source": [
    "#duplicated"
   ]
  },
  {
   "cell_type": "code",
   "execution_count": 21,
   "id": "d1a0bfba-8ffb-4f8e-b2b2-d666a2868a5e",
   "metadata": {
    "tags": []
   },
   "outputs": [
    {
     "data": {
      "text/plain": [
       "0"
      ]
     },
     "execution_count": 21,
     "metadata": {},
     "output_type": "execute_result"
    }
   ],
   "source": [
    "movies.duplicated().sum()"
   ]
  },
  {
   "cell_type": "code",
   "execution_count": 22,
   "id": "5839ab1c-828f-436b-a96a-ca53f0747251",
   "metadata": {},
   "outputs": [],
   "source": [
    "# the task is now we will merge columns genre kyword caste crew  in overviwes \n",
    "#here we will filter these columns  "
   ]
  },
  {
   "cell_type": "code",
   "execution_count": 23,
   "id": "532cba1e-c664-4b7d-b932-c39ac2db129f",
   "metadata": {},
   "outputs": [],
   "source": [
    "# change the formate of genres columns into list columns eg=['action','adventures','fantacy']"
   ]
  },
  {
   "cell_type": "code",
   "execution_count": 24,
   "id": "305c3c94-0679-46c3-81e5-9df7308c414f",
   "metadata": {
    "tags": []
   },
   "outputs": [
    {
     "data": {
      "text/plain": [
       "'[{\"id\": 28, \"name\": \"Action\"}, {\"id\": 12, \"name\": \"Adventure\"}, {\"id\": 14, \"name\": \"Fantasy\"}, {\"id\": 878, \"name\": \"Science Fiction\"}]'"
      ]
     },
     "execution_count": 24,
     "metadata": {},
     "output_type": "execute_result"
    }
   ],
   "source": [
    "movies.iloc[0].genres"
   ]
  },
  {
   "cell_type": "code",
   "execution_count": 25,
   "id": "0791a595-5071-4edf-8b5e-f8cc2f41aa9e",
   "metadata": {},
   "outputs": [],
   "source": [
    "#now lets convert this struing into lis"
   ]
  },
  {
   "cell_type": "code",
   "execution_count": 26,
   "id": "1ccb13b2-8eb7-4b2b-a48e-e848a947bdc4",
   "metadata": {
    "tags": []
   },
   "outputs": [],
   "source": [
    "def convert(obj):\n",
    "    li=[]\n",
    "    for i in obj:\n",
    "        li.append(i['name'])\n",
    "        return li"
   ]
  },
  {
   "cell_type": "code",
   "execution_count": 27,
   "id": "0a31c8d3-d0f2-4558-851b-c3a9bd2e4e72",
   "metadata": {
    "tags": []
   },
   "outputs": [
    {
     "ename": "TypeError",
     "evalue": "string indices must be integers, not 'str'",
     "output_type": "error",
     "traceback": [
      "\u001b[1;31m---------------------------------------------------------------------------\u001b[0m",
      "\u001b[1;31mTypeError\u001b[0m                                 Traceback (most recent call last)",
      "Cell \u001b[1;32mIn[27], line 1\u001b[0m\n\u001b[1;32m----> 1\u001b[0m convert(\u001b[38;5;124m'\u001b[39m\u001b[38;5;124m[\u001b[39m\u001b[38;5;124m{\u001b[39m\u001b[38;5;124m\"\u001b[39m\u001b[38;5;124mid\u001b[39m\u001b[38;5;124m\"\u001b[39m\u001b[38;5;124m: 28, \u001b[39m\u001b[38;5;124m\"\u001b[39m\u001b[38;5;124mname\u001b[39m\u001b[38;5;124m\"\u001b[39m\u001b[38;5;124m: \u001b[39m\u001b[38;5;124m\"\u001b[39m\u001b[38;5;124mAction\u001b[39m\u001b[38;5;124m\"\u001b[39m\u001b[38;5;124m}, \u001b[39m\u001b[38;5;124m{\u001b[39m\u001b[38;5;124m\"\u001b[39m\u001b[38;5;124mid\u001b[39m\u001b[38;5;124m\"\u001b[39m\u001b[38;5;124m: 12, \u001b[39m\u001b[38;5;124m\"\u001b[39m\u001b[38;5;124mname\u001b[39m\u001b[38;5;124m\"\u001b[39m\u001b[38;5;124m: \u001b[39m\u001b[38;5;124m\"\u001b[39m\u001b[38;5;124mAdventure\u001b[39m\u001b[38;5;124m\"\u001b[39m\u001b[38;5;124m}, \u001b[39m\u001b[38;5;124m{\u001b[39m\u001b[38;5;124m\"\u001b[39m\u001b[38;5;124mid\u001b[39m\u001b[38;5;124m\"\u001b[39m\u001b[38;5;124m: 14, \u001b[39m\u001b[38;5;124m\"\u001b[39m\u001b[38;5;124mname\u001b[39m\u001b[38;5;124m\"\u001b[39m\u001b[38;5;124m: \u001b[39m\u001b[38;5;124m\"\u001b[39m\u001b[38;5;124mFantasy\u001b[39m\u001b[38;5;124m\"\u001b[39m\u001b[38;5;124m}, \u001b[39m\u001b[38;5;124m{\u001b[39m\u001b[38;5;124m\"\u001b[39m\u001b[38;5;124mid\u001b[39m\u001b[38;5;124m\"\u001b[39m\u001b[38;5;124m: 878, \u001b[39m\u001b[38;5;124m\"\u001b[39m\u001b[38;5;124mname\u001b[39m\u001b[38;5;124m\"\u001b[39m\u001b[38;5;124m: \u001b[39m\u001b[38;5;124m\"\u001b[39m\u001b[38;5;124mScience Fiction\u001b[39m\u001b[38;5;124m\"\u001b[39m\u001b[38;5;124m}]\u001b[39m\u001b[38;5;124m'\u001b[39m)\n",
      "Cell \u001b[1;32mIn[26], line 4\u001b[0m, in \u001b[0;36mconvert\u001b[1;34m(obj)\u001b[0m\n\u001b[0;32m      2\u001b[0m li\u001b[38;5;241m=\u001b[39m[]\n\u001b[0;32m      3\u001b[0m \u001b[38;5;28;01mfor\u001b[39;00m i \u001b[38;5;129;01min\u001b[39;00m obj:\n\u001b[1;32m----> 4\u001b[0m     li\u001b[38;5;241m.\u001b[39mappend(i[\u001b[38;5;124m'\u001b[39m\u001b[38;5;124mname\u001b[39m\u001b[38;5;124m'\u001b[39m])\n\u001b[0;32m      5\u001b[0m     \u001b[38;5;28;01mreturn\u001b[39;00m li\n",
      "\u001b[1;31mTypeError\u001b[0m: string indices must be integers, not 'str'"
     ]
    }
   ],
   "source": [
    "convert('[{\"id\": 28, \"name\": \"Action\"}, {\"id\": 12, \"name\": \"Adventure\"}, {\"id\": 14, \"name\": \"Fantasy\"}, {\"id\": 878, \"name\": \"Science Fiction\"}]')"
   ]
  },
  {
   "cell_type": "code",
   "execution_count": null,
   "id": "030378a3-ba17-4022-8caa-4dfdee1cb061",
   "metadata": {},
   "outputs": [],
   "source": [
    "# you can ee in that loop function list has not passed because of string in the genres columns "
   ]
  },
  {
   "cell_type": "code",
   "execution_count": null,
   "id": "6c9e3699-3b18-4110-9489-cdc6b7b8bde9",
   "metadata": {},
   "outputs": [],
   "source": [
    "# here we will convert string int list using this module beelow "
   ]
  },
  {
   "cell_type": "code",
   "execution_count": 28,
   "id": "409b0577-46d8-4465-af9c-c74a189b66e7",
   "metadata": {
    "tags": []
   },
   "outputs": [
    {
     "data": {
      "text/plain": [
       "[{'id': 28, 'name': 'Action'},\n",
       " {'id': 12, 'name': 'Adventure'},\n",
       " {'id': 14, 'name': 'Fantasy'},\n",
       " {'id': 878, 'name': 'Science Fiction'}]"
      ]
     },
     "execution_count": 28,
     "metadata": {},
     "output_type": "execute_result"
    }
   ],
   "source": [
    "import ast\n",
    "ast.literal_eval('[{\"id\": 28, \"name\": \"Action\"}, {\"id\": 12, \"name\": \"Adventure\"}, {\"id\": 14, \"name\": \"Fantasy\"}, {\"id\": 878, \"name\": \"Science Fiction\"}]')"
   ]
  },
  {
   "cell_type": "code",
   "execution_count": null,
   "id": "df057b50-9dd6-4950-a35c-9c4a9c167f92",
   "metadata": {},
   "outputs": [],
   "source": [
    "# now we will use ast.literal_eval  this function in  loop "
   ]
  },
  {
   "cell_type": "code",
   "execution_count": 30,
   "id": "b6461ae6-7bf5-49e9-aca6-8411876dc70b",
   "metadata": {
    "tags": []
   },
   "outputs": [],
   "source": [
    "def convert(obj):\n",
    "    li=[]\n",
    "    for i in ast.literal_eval(obj):\n",
    "        li.append(i['name'])\n",
    "        return li"
   ]
  },
  {
   "cell_type": "code",
   "execution_count": null,
   "id": "ac506ba6-d5da-472b-b8fd-d093219e7d14",
   "metadata": {},
   "outputs": [],
   "source": [
    "# now we will use apply function for conversion string to list "
   ]
  },
  {
   "cell_type": "code",
   "execution_count": 31,
   "id": "b0b084ab-a1ac-4937-85ee-00bdfac13c4e",
   "metadata": {
    "tags": []
   },
   "outputs": [],
   "source": [
    "movies['genres']=movies['genres'].apply(convert)"
   ]
  },
  {
   "cell_type": "code",
   "execution_count": 32,
   "id": "83121ea9-3fef-47ba-a4d1-fd3b9daa0735",
   "metadata": {
    "tags": []
   },
   "outputs": [
    {
     "data": {
      "text/html": [
       "<div>\n",
       "<style scoped>\n",
       "    .dataframe tbody tr th:only-of-type {\n",
       "        vertical-align: middle;\n",
       "    }\n",
       "\n",
       "    .dataframe tbody tr th {\n",
       "        vertical-align: top;\n",
       "    }\n",
       "\n",
       "    .dataframe thead th {\n",
       "        text-align: right;\n",
       "    }\n",
       "</style>\n",
       "<table border=\"1\" class=\"dataframe\">\n",
       "  <thead>\n",
       "    <tr style=\"text-align: right;\">\n",
       "      <th></th>\n",
       "      <th>genres</th>\n",
       "      <th>keywords</th>\n",
       "      <th>overview</th>\n",
       "      <th>title</th>\n",
       "      <th>movie_id</th>\n",
       "      <th>cast</th>\n",
       "      <th>crew</th>\n",
       "    </tr>\n",
       "  </thead>\n",
       "  <tbody>\n",
       "    <tr>\n",
       "      <th>0</th>\n",
       "      <td>[Action]</td>\n",
       "      <td>[{\"id\": 1463, \"name\": \"culture clash\"}, {\"id\":...</td>\n",
       "      <td>In the 22nd century, a paraplegic Marine is di...</td>\n",
       "      <td>Avatar</td>\n",
       "      <td>19995</td>\n",
       "      <td>[{\"cast_id\": 242, \"character\": \"Jake Sully\", \"...</td>\n",
       "      <td>[{\"credit_id\": \"52fe48009251416c750aca23\", \"de...</td>\n",
       "    </tr>\n",
       "    <tr>\n",
       "      <th>1</th>\n",
       "      <td>[Adventure]</td>\n",
       "      <td>[{\"id\": 270, \"name\": \"ocean\"}, {\"id\": 726, \"na...</td>\n",
       "      <td>Captain Barbossa, long believed to be dead, ha...</td>\n",
       "      <td>Pirates of the Caribbean: At World's End</td>\n",
       "      <td>285</td>\n",
       "      <td>[{\"cast_id\": 4, \"character\": \"Captain Jack Spa...</td>\n",
       "      <td>[{\"credit_id\": \"52fe4232c3a36847f800b579\", \"de...</td>\n",
       "    </tr>\n",
       "  </tbody>\n",
       "</table>\n",
       "</div>"
      ],
      "text/plain": [
       "        genres                                           keywords  \\\n",
       "0     [Action]  [{\"id\": 1463, \"name\": \"culture clash\"}, {\"id\":...   \n",
       "1  [Adventure]  [{\"id\": 270, \"name\": \"ocean\"}, {\"id\": 726, \"na...   \n",
       "\n",
       "                                            overview  \\\n",
       "0  In the 22nd century, a paraplegic Marine is di...   \n",
       "1  Captain Barbossa, long believed to be dead, ha...   \n",
       "\n",
       "                                      title  movie_id  \\\n",
       "0                                    Avatar     19995   \n",
       "1  Pirates of the Caribbean: At World's End       285   \n",
       "\n",
       "                                                cast  \\\n",
       "0  [{\"cast_id\": 242, \"character\": \"Jake Sully\", \"...   \n",
       "1  [{\"cast_id\": 4, \"character\": \"Captain Jack Spa...   \n",
       "\n",
       "                                                crew  \n",
       "0  [{\"credit_id\": \"52fe48009251416c750aca23\", \"de...  \n",
       "1  [{\"credit_id\": \"52fe4232c3a36847f800b579\", \"de...  "
      ]
     },
     "execution_count": 32,
     "metadata": {},
     "output_type": "execute_result"
    }
   ],
   "source": [
    "movies.head(2)"
   ]
  },
  {
   "cell_type": "code",
   "execution_count": null,
   "id": "9d52ded4-6ba1-4d18-8b5c-6671baafce64",
   "metadata": {},
   "outputs": [],
   "source": [
    "# now we will do these things with keywords wala colums "
   ]
  },
  {
   "cell_type": "code",
   "execution_count": 33,
   "id": "3b125441-046a-429e-8147-76a7598a8240",
   "metadata": {
    "tags": []
   },
   "outputs": [],
   "source": [
    "movies['keywords']=movies['keywords'].apply(convert)"
   ]
  },
  {
   "cell_type": "code",
   "execution_count": 34,
   "id": "76db36c4-54b8-40f8-ac64-01baeeaa1aa2",
   "metadata": {
    "tags": []
   },
   "outputs": [
    {
     "data": {
      "text/html": [
       "<div>\n",
       "<style scoped>\n",
       "    .dataframe tbody tr th:only-of-type {\n",
       "        vertical-align: middle;\n",
       "    }\n",
       "\n",
       "    .dataframe tbody tr th {\n",
       "        vertical-align: top;\n",
       "    }\n",
       "\n",
       "    .dataframe thead th {\n",
       "        text-align: right;\n",
       "    }\n",
       "</style>\n",
       "<table border=\"1\" class=\"dataframe\">\n",
       "  <thead>\n",
       "    <tr style=\"text-align: right;\">\n",
       "      <th></th>\n",
       "      <th>genres</th>\n",
       "      <th>keywords</th>\n",
       "      <th>overview</th>\n",
       "      <th>title</th>\n",
       "      <th>movie_id</th>\n",
       "      <th>cast</th>\n",
       "      <th>crew</th>\n",
       "    </tr>\n",
       "  </thead>\n",
       "  <tbody>\n",
       "    <tr>\n",
       "      <th>0</th>\n",
       "      <td>[Action]</td>\n",
       "      <td>[culture clash]</td>\n",
       "      <td>In the 22nd century, a paraplegic Marine is di...</td>\n",
       "      <td>Avatar</td>\n",
       "      <td>19995</td>\n",
       "      <td>[{\"cast_id\": 242, \"character\": \"Jake Sully\", \"...</td>\n",
       "      <td>[{\"credit_id\": \"52fe48009251416c750aca23\", \"de...</td>\n",
       "    </tr>\n",
       "    <tr>\n",
       "      <th>1</th>\n",
       "      <td>[Adventure]</td>\n",
       "      <td>[ocean]</td>\n",
       "      <td>Captain Barbossa, long believed to be dead, ha...</td>\n",
       "      <td>Pirates of the Caribbean: At World's End</td>\n",
       "      <td>285</td>\n",
       "      <td>[{\"cast_id\": 4, \"character\": \"Captain Jack Spa...</td>\n",
       "      <td>[{\"credit_id\": \"52fe4232c3a36847f800b579\", \"de...</td>\n",
       "    </tr>\n",
       "  </tbody>\n",
       "</table>\n",
       "</div>"
      ],
      "text/plain": [
       "        genres         keywords  \\\n",
       "0     [Action]  [culture clash]   \n",
       "1  [Adventure]          [ocean]   \n",
       "\n",
       "                                            overview  \\\n",
       "0  In the 22nd century, a paraplegic Marine is di...   \n",
       "1  Captain Barbossa, long believed to be dead, ha...   \n",
       "\n",
       "                                      title  movie_id  \\\n",
       "0                                    Avatar     19995   \n",
       "1  Pirates of the Caribbean: At World's End       285   \n",
       "\n",
       "                                                cast  \\\n",
       "0  [{\"cast_id\": 242, \"character\": \"Jake Sully\", \"...   \n",
       "1  [{\"cast_id\": 4, \"character\": \"Captain Jack Spa...   \n",
       "\n",
       "                                                crew  \n",
       "0  [{\"credit_id\": \"52fe48009251416c750aca23\", \"de...  \n",
       "1  [{\"credit_id\": \"52fe4232c3a36847f800b579\", \"de...  "
      ]
     },
     "execution_count": 34,
     "metadata": {},
     "output_type": "execute_result"
    }
   ],
   "source": [
    "movies.head(2)"
   ]
  },
  {
   "cell_type": "code",
   "execution_count": null,
   "id": "61f47128-4f85-410c-9690-0b47fc70fd66",
   "metadata": {},
   "outputs": [],
   "source": [
    "# now we will work on  caste columns we are required only three actor name for recommendation  will run loop with counter "
   ]
  },
  {
   "cell_type": "code",
   "execution_count": 35,
   "id": "a961546f-b016-48eb-b4b1-cf334f0df55a",
   "metadata": {
    "tags": []
   },
   "outputs": [],
   "source": [
    "def convert3(obj):\n",
    "    li=[]\n",
    "    counter=0\n",
    "    for i in ast.literal_eval(obj):\n",
    "        if counter != 3:\n",
    "            li.append(i[\"name\"])\n",
    "            counter+=1\n",
    "        else:\n",
    "            break\n",
    "    return li       \n",
    "            \n",
    "\n",
    "    "
   ]
  },
  {
   "cell_type": "code",
   "execution_count": null,
   "id": "e9d7d8e9-2f6c-49d6-8eba-d51a9fffb7ec",
   "metadata": {},
   "outputs": [],
   "source": [
    "# now will use apply function  and only 3 star caste will shown  "
   ]
  },
  {
   "cell_type": "code",
   "execution_count": 36,
   "id": "f352ecb9-aae2-4762-a8ce-1ee5f3575287",
   "metadata": {
    "tags": []
   },
   "outputs": [],
   "source": [
    "movies[\"cast\"]=movies[\"cast\"].apply(convert3)"
   ]
  },
  {
   "cell_type": "code",
   "execution_count": 37,
   "id": "25d0e4ba-62a3-41f3-b9c9-0dd3cbe39053",
   "metadata": {
    "tags": []
   },
   "outputs": [
    {
     "data": {
      "text/html": [
       "<div>\n",
       "<style scoped>\n",
       "    .dataframe tbody tr th:only-of-type {\n",
       "        vertical-align: middle;\n",
       "    }\n",
       "\n",
       "    .dataframe tbody tr th {\n",
       "        vertical-align: top;\n",
       "    }\n",
       "\n",
       "    .dataframe thead th {\n",
       "        text-align: right;\n",
       "    }\n",
       "</style>\n",
       "<table border=\"1\" class=\"dataframe\">\n",
       "  <thead>\n",
       "    <tr style=\"text-align: right;\">\n",
       "      <th></th>\n",
       "      <th>genres</th>\n",
       "      <th>keywords</th>\n",
       "      <th>overview</th>\n",
       "      <th>title</th>\n",
       "      <th>movie_id</th>\n",
       "      <th>cast</th>\n",
       "      <th>crew</th>\n",
       "    </tr>\n",
       "  </thead>\n",
       "  <tbody>\n",
       "    <tr>\n",
       "      <th>0</th>\n",
       "      <td>[Action]</td>\n",
       "      <td>[culture clash]</td>\n",
       "      <td>In the 22nd century, a paraplegic Marine is di...</td>\n",
       "      <td>Avatar</td>\n",
       "      <td>19995</td>\n",
       "      <td>[Sam Worthington, Zoe Saldana, Sigourney Weaver]</td>\n",
       "      <td>[{\"credit_id\": \"52fe48009251416c750aca23\", \"de...</td>\n",
       "    </tr>\n",
       "    <tr>\n",
       "      <th>1</th>\n",
       "      <td>[Adventure]</td>\n",
       "      <td>[ocean]</td>\n",
       "      <td>Captain Barbossa, long believed to be dead, ha...</td>\n",
       "      <td>Pirates of the Caribbean: At World's End</td>\n",
       "      <td>285</td>\n",
       "      <td>[Johnny Depp, Orlando Bloom, Keira Knightley]</td>\n",
       "      <td>[{\"credit_id\": \"52fe4232c3a36847f800b579\", \"de...</td>\n",
       "    </tr>\n",
       "    <tr>\n",
       "      <th>2</th>\n",
       "      <td>[Action]</td>\n",
       "      <td>[spy]</td>\n",
       "      <td>A cryptic message from Bond’s past sends him o...</td>\n",
       "      <td>Spectre</td>\n",
       "      <td>206647</td>\n",
       "      <td>[Daniel Craig, Christoph Waltz, Léa Seydoux]</td>\n",
       "      <td>[{\"credit_id\": \"54805967c3a36829b5002c41\", \"de...</td>\n",
       "    </tr>\n",
       "    <tr>\n",
       "      <th>3</th>\n",
       "      <td>[Action]</td>\n",
       "      <td>[dc comics]</td>\n",
       "      <td>Following the death of District Attorney Harve...</td>\n",
       "      <td>The Dark Knight Rises</td>\n",
       "      <td>49026</td>\n",
       "      <td>[Christian Bale, Michael Caine, Gary Oldman]</td>\n",
       "      <td>[{\"credit_id\": \"52fe4781c3a36847f81398c3\", \"de...</td>\n",
       "    </tr>\n",
       "    <tr>\n",
       "      <th>4</th>\n",
       "      <td>[Action]</td>\n",
       "      <td>[based on novel]</td>\n",
       "      <td>John Carter is a war-weary, former military ca...</td>\n",
       "      <td>John Carter</td>\n",
       "      <td>49529</td>\n",
       "      <td>[Taylor Kitsch, Lynn Collins, Samantha Morton]</td>\n",
       "      <td>[{\"credit_id\": \"52fe479ac3a36847f813eaa3\", \"de...</td>\n",
       "    </tr>\n",
       "  </tbody>\n",
       "</table>\n",
       "</div>"
      ],
      "text/plain": [
       "        genres          keywords  \\\n",
       "0     [Action]   [culture clash]   \n",
       "1  [Adventure]           [ocean]   \n",
       "2     [Action]             [spy]   \n",
       "3     [Action]       [dc comics]   \n",
       "4     [Action]  [based on novel]   \n",
       "\n",
       "                                            overview  \\\n",
       "0  In the 22nd century, a paraplegic Marine is di...   \n",
       "1  Captain Barbossa, long believed to be dead, ha...   \n",
       "2  A cryptic message from Bond’s past sends him o...   \n",
       "3  Following the death of District Attorney Harve...   \n",
       "4  John Carter is a war-weary, former military ca...   \n",
       "\n",
       "                                      title  movie_id  \\\n",
       "0                                    Avatar     19995   \n",
       "1  Pirates of the Caribbean: At World's End       285   \n",
       "2                                   Spectre    206647   \n",
       "3                     The Dark Knight Rises     49026   \n",
       "4                               John Carter     49529   \n",
       "\n",
       "                                               cast  \\\n",
       "0  [Sam Worthington, Zoe Saldana, Sigourney Weaver]   \n",
       "1     [Johnny Depp, Orlando Bloom, Keira Knightley]   \n",
       "2      [Daniel Craig, Christoph Waltz, Léa Seydoux]   \n",
       "3      [Christian Bale, Michael Caine, Gary Oldman]   \n",
       "4    [Taylor Kitsch, Lynn Collins, Samantha Morton]   \n",
       "\n",
       "                                                crew  \n",
       "0  [{\"credit_id\": \"52fe48009251416c750aca23\", \"de...  \n",
       "1  [{\"credit_id\": \"52fe4232c3a36847f800b579\", \"de...  \n",
       "2  [{\"credit_id\": \"54805967c3a36829b5002c41\", \"de...  \n",
       "3  [{\"credit_id\": \"52fe4781c3a36847f81398c3\", \"de...  \n",
       "4  [{\"credit_id\": \"52fe479ac3a36847f813eaa3\", \"de...  "
      ]
     },
     "execution_count": 37,
     "metadata": {},
     "output_type": "execute_result"
    }
   ],
   "source": [
    "movies.head()"
   ]
  },
  {
   "cell_type": "code",
   "execution_count": null,
   "id": "52179841-5ffe-4e5c-a3e9-83dab44b5713",
   "metadata": {},
   "outputs": [],
   "source": [
    "# now we will work on crew column  \n",
    "# we are required only director name from dictionary \n",
    "#wher \"job\":director we will use loop function and break it after getting \n",
    "#use ast.literal_eval(obj):\n",
    "#ten apply fuction  "
   ]
  },
  {
   "cell_type": "code",
   "execution_count": 38,
   "id": "d40a131f-2135-44c1-80c6-e21b84007981",
   "metadata": {
    "tags": []
   },
   "outputs": [],
   "source": [
    "def fetch_director(obj):\n",
    "    li=[]\n",
    "    for i in ast.literal_eval(obj):\n",
    "        if i[\"job\"]==\"Director\":\n",
    "            li.append(i[\"name\"])\n",
    "            break\n",
    "    return li        "
   ]
  },
  {
   "cell_type": "code",
   "execution_count": 39,
   "id": "ffc0a5b6-d01c-4bee-89d5-359c6a36fb50",
   "metadata": {
    "tags": []
   },
   "outputs": [],
   "source": [
    "movies[\"crew\"]=movies[\"crew\"].apply(fetch_director)"
   ]
  },
  {
   "cell_type": "code",
   "execution_count": 40,
   "id": "f2c11829-2f2b-4183-860a-4491928cb877",
   "metadata": {
    "tags": []
   },
   "outputs": [
    {
     "data": {
      "text/html": [
       "<div>\n",
       "<style scoped>\n",
       "    .dataframe tbody tr th:only-of-type {\n",
       "        vertical-align: middle;\n",
       "    }\n",
       "\n",
       "    .dataframe tbody tr th {\n",
       "        vertical-align: top;\n",
       "    }\n",
       "\n",
       "    .dataframe thead th {\n",
       "        text-align: right;\n",
       "    }\n",
       "</style>\n",
       "<table border=\"1\" class=\"dataframe\">\n",
       "  <thead>\n",
       "    <tr style=\"text-align: right;\">\n",
       "      <th></th>\n",
       "      <th>genres</th>\n",
       "      <th>keywords</th>\n",
       "      <th>overview</th>\n",
       "      <th>title</th>\n",
       "      <th>movie_id</th>\n",
       "      <th>cast</th>\n",
       "      <th>crew</th>\n",
       "    </tr>\n",
       "  </thead>\n",
       "  <tbody>\n",
       "    <tr>\n",
       "      <th>0</th>\n",
       "      <td>[Action]</td>\n",
       "      <td>[culture clash]</td>\n",
       "      <td>In the 22nd century, a paraplegic Marine is di...</td>\n",
       "      <td>Avatar</td>\n",
       "      <td>19995</td>\n",
       "      <td>[Sam Worthington, Zoe Saldana, Sigourney Weaver]</td>\n",
       "      <td>[James Cameron]</td>\n",
       "    </tr>\n",
       "    <tr>\n",
       "      <th>1</th>\n",
       "      <td>[Adventure]</td>\n",
       "      <td>[ocean]</td>\n",
       "      <td>Captain Barbossa, long believed to be dead, ha...</td>\n",
       "      <td>Pirates of the Caribbean: At World's End</td>\n",
       "      <td>285</td>\n",
       "      <td>[Johnny Depp, Orlando Bloom, Keira Knightley]</td>\n",
       "      <td>[Gore Verbinski]</td>\n",
       "    </tr>\n",
       "    <tr>\n",
       "      <th>2</th>\n",
       "      <td>[Action]</td>\n",
       "      <td>[spy]</td>\n",
       "      <td>A cryptic message from Bond’s past sends him o...</td>\n",
       "      <td>Spectre</td>\n",
       "      <td>206647</td>\n",
       "      <td>[Daniel Craig, Christoph Waltz, Léa Seydoux]</td>\n",
       "      <td>[Sam Mendes]</td>\n",
       "    </tr>\n",
       "    <tr>\n",
       "      <th>3</th>\n",
       "      <td>[Action]</td>\n",
       "      <td>[dc comics]</td>\n",
       "      <td>Following the death of District Attorney Harve...</td>\n",
       "      <td>The Dark Knight Rises</td>\n",
       "      <td>49026</td>\n",
       "      <td>[Christian Bale, Michael Caine, Gary Oldman]</td>\n",
       "      <td>[Christopher Nolan]</td>\n",
       "    </tr>\n",
       "    <tr>\n",
       "      <th>4</th>\n",
       "      <td>[Action]</td>\n",
       "      <td>[based on novel]</td>\n",
       "      <td>John Carter is a war-weary, former military ca...</td>\n",
       "      <td>John Carter</td>\n",
       "      <td>49529</td>\n",
       "      <td>[Taylor Kitsch, Lynn Collins, Samantha Morton]</td>\n",
       "      <td>[Andrew Stanton]</td>\n",
       "    </tr>\n",
       "    <tr>\n",
       "      <th>...</th>\n",
       "      <td>...</td>\n",
       "      <td>...</td>\n",
       "      <td>...</td>\n",
       "      <td>...</td>\n",
       "      <td>...</td>\n",
       "      <td>...</td>\n",
       "      <td>...</td>\n",
       "    </tr>\n",
       "    <tr>\n",
       "      <th>4804</th>\n",
       "      <td>[Action]</td>\n",
       "      <td>[united states–mexico barrier]</td>\n",
       "      <td>El Mariachi just wants to play his guitar and ...</td>\n",
       "      <td>El Mariachi</td>\n",
       "      <td>9367</td>\n",
       "      <td>[Carlos Gallardo, Jaime de Hoyos, Peter Marqua...</td>\n",
       "      <td>[Robert Rodriguez]</td>\n",
       "    </tr>\n",
       "    <tr>\n",
       "      <th>4805</th>\n",
       "      <td>[Comedy]</td>\n",
       "      <td>None</td>\n",
       "      <td>A newlywed couple's honeymoon is upended by th...</td>\n",
       "      <td>Newlyweds</td>\n",
       "      <td>72766</td>\n",
       "      <td>[Edward Burns, Kerry Bishé, Marsha Dietlein]</td>\n",
       "      <td>[Edward Burns]</td>\n",
       "    </tr>\n",
       "    <tr>\n",
       "      <th>4806</th>\n",
       "      <td>[Comedy]</td>\n",
       "      <td>[date]</td>\n",
       "      <td>\"Signed, Sealed, Delivered\" introduces a dedic...</td>\n",
       "      <td>Signed, Sealed, Delivered</td>\n",
       "      <td>231617</td>\n",
       "      <td>[Eric Mabius, Kristin Booth, Crystal Lowe]</td>\n",
       "      <td>[Scott Smith]</td>\n",
       "    </tr>\n",
       "    <tr>\n",
       "      <th>4807</th>\n",
       "      <td>None</td>\n",
       "      <td>None</td>\n",
       "      <td>When ambitious New York attorney Sam is sent t...</td>\n",
       "      <td>Shanghai Calling</td>\n",
       "      <td>126186</td>\n",
       "      <td>[Daniel Henney, Eliza Coupe, Bill Paxton]</td>\n",
       "      <td>[Daniel Hsia]</td>\n",
       "    </tr>\n",
       "    <tr>\n",
       "      <th>4808</th>\n",
       "      <td>[Documentary]</td>\n",
       "      <td>[obsession]</td>\n",
       "      <td>Ever since the second grade when he first saw ...</td>\n",
       "      <td>My Date with Drew</td>\n",
       "      <td>25975</td>\n",
       "      <td>[Drew Barrymore, Brian Herzlinger, Corey Feldman]</td>\n",
       "      <td>[Brian Herzlinger]</td>\n",
       "    </tr>\n",
       "  </tbody>\n",
       "</table>\n",
       "<p>4806 rows × 7 columns</p>\n",
       "</div>"
      ],
      "text/plain": [
       "             genres                        keywords  \\\n",
       "0          [Action]                 [culture clash]   \n",
       "1       [Adventure]                         [ocean]   \n",
       "2          [Action]                           [spy]   \n",
       "3          [Action]                     [dc comics]   \n",
       "4          [Action]                [based on novel]   \n",
       "...             ...                             ...   \n",
       "4804       [Action]  [united states–mexico barrier]   \n",
       "4805       [Comedy]                            None   \n",
       "4806       [Comedy]                          [date]   \n",
       "4807           None                            None   \n",
       "4808  [Documentary]                     [obsession]   \n",
       "\n",
       "                                               overview  \\\n",
       "0     In the 22nd century, a paraplegic Marine is di...   \n",
       "1     Captain Barbossa, long believed to be dead, ha...   \n",
       "2     A cryptic message from Bond’s past sends him o...   \n",
       "3     Following the death of District Attorney Harve...   \n",
       "4     John Carter is a war-weary, former military ca...   \n",
       "...                                                 ...   \n",
       "4804  El Mariachi just wants to play his guitar and ...   \n",
       "4805  A newlywed couple's honeymoon is upended by th...   \n",
       "4806  \"Signed, Sealed, Delivered\" introduces a dedic...   \n",
       "4807  When ambitious New York attorney Sam is sent t...   \n",
       "4808  Ever since the second grade when he first saw ...   \n",
       "\n",
       "                                         title  movie_id  \\\n",
       "0                                       Avatar     19995   \n",
       "1     Pirates of the Caribbean: At World's End       285   \n",
       "2                                      Spectre    206647   \n",
       "3                        The Dark Knight Rises     49026   \n",
       "4                                  John Carter     49529   \n",
       "...                                        ...       ...   \n",
       "4804                               El Mariachi      9367   \n",
       "4805                                 Newlyweds     72766   \n",
       "4806                 Signed, Sealed, Delivered    231617   \n",
       "4807                          Shanghai Calling    126186   \n",
       "4808                         My Date with Drew     25975   \n",
       "\n",
       "                                                   cast                 crew  \n",
       "0      [Sam Worthington, Zoe Saldana, Sigourney Weaver]      [James Cameron]  \n",
       "1         [Johnny Depp, Orlando Bloom, Keira Knightley]     [Gore Verbinski]  \n",
       "2          [Daniel Craig, Christoph Waltz, Léa Seydoux]         [Sam Mendes]  \n",
       "3          [Christian Bale, Michael Caine, Gary Oldman]  [Christopher Nolan]  \n",
       "4        [Taylor Kitsch, Lynn Collins, Samantha Morton]     [Andrew Stanton]  \n",
       "...                                                 ...                  ...  \n",
       "4804  [Carlos Gallardo, Jaime de Hoyos, Peter Marqua...   [Robert Rodriguez]  \n",
       "4805       [Edward Burns, Kerry Bishé, Marsha Dietlein]       [Edward Burns]  \n",
       "4806         [Eric Mabius, Kristin Booth, Crystal Lowe]        [Scott Smith]  \n",
       "4807          [Daniel Henney, Eliza Coupe, Bill Paxton]        [Daniel Hsia]  \n",
       "4808  [Drew Barrymore, Brian Herzlinger, Corey Feldman]   [Brian Herzlinger]  \n",
       "\n",
       "[4806 rows x 7 columns]"
      ]
     },
     "execution_count": 40,
     "metadata": {},
     "output_type": "execute_result"
    }
   ],
   "source": [
    "movies"
   ]
  },
  {
   "cell_type": "code",
   "execution_count": null,
   "id": "bfdf401e-15b0-4a75-a37e-ab5c1451ce42",
   "metadata": {},
   "outputs": [],
   "source": [
    "# now we have overview columns which is in list so willc onvert it into list "
   ]
  },
  {
   "cell_type": "code",
   "execution_count": 41,
   "id": "f31825aa-8fac-4346-8df7-1cecb9d087d1",
   "metadata": {
    "tags": []
   },
   "outputs": [
    {
     "data": {
      "text/plain": [
       "'In the 22nd century, a paraplegic Marine is dispatched to the moon Pandora on a unique mission, but becomes torn between following orders and protecting an alien civilization.'"
      ]
     },
     "execution_count": 41,
     "metadata": {},
     "output_type": "execute_result"
    }
   ],
   "source": [
    "movies[\"overview\"][0]   # now we will aplly lamba funtion to convert into list "
   ]
  },
  {
   "cell_type": "code",
   "execution_count": null,
   "id": "b3b4e276-ff47-4f48-99bc-69311cb89e35",
   "metadata": {},
   "outputs": [],
   "source": []
  },
  {
   "cell_type": "code",
   "execution_count": 42,
   "id": "2b63b4cf-b109-4b46-921a-1ed8030008d7",
   "metadata": {
    "tags": []
   },
   "outputs": [],
   "source": [
    "movies[\"overview\"]=movies[\"overview\"].apply(lambda x:x.split())"
   ]
  },
  {
   "cell_type": "code",
   "execution_count": 43,
   "id": "b540c672-b9d6-40c0-9e24-58decc7b54d5",
   "metadata": {
    "tags": []
   },
   "outputs": [
    {
     "data": {
      "text/html": [
       "<div>\n",
       "<style scoped>\n",
       "    .dataframe tbody tr th:only-of-type {\n",
       "        vertical-align: middle;\n",
       "    }\n",
       "\n",
       "    .dataframe tbody tr th {\n",
       "        vertical-align: top;\n",
       "    }\n",
       "\n",
       "    .dataframe thead th {\n",
       "        text-align: right;\n",
       "    }\n",
       "</style>\n",
       "<table border=\"1\" class=\"dataframe\">\n",
       "  <thead>\n",
       "    <tr style=\"text-align: right;\">\n",
       "      <th></th>\n",
       "      <th>genres</th>\n",
       "      <th>keywords</th>\n",
       "      <th>overview</th>\n",
       "      <th>title</th>\n",
       "      <th>movie_id</th>\n",
       "      <th>cast</th>\n",
       "      <th>crew</th>\n",
       "    </tr>\n",
       "  </thead>\n",
       "  <tbody>\n",
       "    <tr>\n",
       "      <th>0</th>\n",
       "      <td>[Action]</td>\n",
       "      <td>[culture clash]</td>\n",
       "      <td>[In, the, 22nd, century,, a, paraplegic, Marin...</td>\n",
       "      <td>Avatar</td>\n",
       "      <td>19995</td>\n",
       "      <td>[Sam Worthington, Zoe Saldana, Sigourney Weaver]</td>\n",
       "      <td>[James Cameron]</td>\n",
       "    </tr>\n",
       "    <tr>\n",
       "      <th>1</th>\n",
       "      <td>[Adventure]</td>\n",
       "      <td>[ocean]</td>\n",
       "      <td>[Captain, Barbossa,, long, believed, to, be, d...</td>\n",
       "      <td>Pirates of the Caribbean: At World's End</td>\n",
       "      <td>285</td>\n",
       "      <td>[Johnny Depp, Orlando Bloom, Keira Knightley]</td>\n",
       "      <td>[Gore Verbinski]</td>\n",
       "    </tr>\n",
       "  </tbody>\n",
       "</table>\n",
       "</div>"
      ],
      "text/plain": [
       "        genres         keywords  \\\n",
       "0     [Action]  [culture clash]   \n",
       "1  [Adventure]          [ocean]   \n",
       "\n",
       "                                            overview  \\\n",
       "0  [In, the, 22nd, century,, a, paraplegic, Marin...   \n",
       "1  [Captain, Barbossa,, long, believed, to, be, d...   \n",
       "\n",
       "                                      title  movie_id  \\\n",
       "0                                    Avatar     19995   \n",
       "1  Pirates of the Caribbean: At World's End       285   \n",
       "\n",
       "                                               cast              crew  \n",
       "0  [Sam Worthington, Zoe Saldana, Sigourney Weaver]   [James Cameron]  \n",
       "1     [Johnny Depp, Orlando Bloom, Keira Knightley]  [Gore Verbinski]  "
      ]
     },
     "execution_count": 43,
     "metadata": {},
     "output_type": "execute_result"
    }
   ],
   "source": [
    "movies.head(2)"
   ]
  },
  {
   "cell_type": "code",
   "execution_count": null,
   "id": "6c873f8d-b57d-447b-9e95-981479605f2e",
   "metadata": {},
   "outputs": [],
   "source": [
    "# here we remove spaces in rowe names for better under understanding of machine  "
   ]
  },
  {
   "cell_type": "code",
   "execution_count": 44,
   "id": "6a7db8b1-ce14-4f68-81bd-6f6ebbc849f4",
   "metadata": {
    "tags": []
   },
   "outputs": [],
   "source": [
    "#  remove spaces from elements in the \"genres\" column\n",
    "movies[\"genres\"] = movies[\"genres\"].apply(lambda x: [i.replace(\" \", \"\") for i in x] if x is not None else x)\n",
    "movies[\"keywords\"] = movies[\"keywords\"].apply(lambda x: [i.replace(\" \", \"\") for i in x] if x is not None else x)\n",
    "movies[\"cast\"] = movies[\"cast\"].apply(lambda x: [i.replace(\" \", \"\") for i in x] if x is not None else x)\n",
    "movies[\"crew\"] = movies[\"crew\"].apply(lambda x: [i.replace(\" \", \"\") for i in x] if x is not None else x)"
   ]
  },
  {
   "cell_type": "code",
   "execution_count": 45,
   "id": "ffc1cefc-c97c-4c3a-bac9-ba1ea5baacaf",
   "metadata": {
    "tags": []
   },
   "outputs": [
    {
     "data": {
      "text/html": [
       "<div>\n",
       "<style scoped>\n",
       "    .dataframe tbody tr th:only-of-type {\n",
       "        vertical-align: middle;\n",
       "    }\n",
       "\n",
       "    .dataframe tbody tr th {\n",
       "        vertical-align: top;\n",
       "    }\n",
       "\n",
       "    .dataframe thead th {\n",
       "        text-align: right;\n",
       "    }\n",
       "</style>\n",
       "<table border=\"1\" class=\"dataframe\">\n",
       "  <thead>\n",
       "    <tr style=\"text-align: right;\">\n",
       "      <th></th>\n",
       "      <th>genres</th>\n",
       "      <th>keywords</th>\n",
       "      <th>overview</th>\n",
       "      <th>title</th>\n",
       "      <th>movie_id</th>\n",
       "      <th>cast</th>\n",
       "      <th>crew</th>\n",
       "    </tr>\n",
       "  </thead>\n",
       "  <tbody>\n",
       "    <tr>\n",
       "      <th>0</th>\n",
       "      <td>[Action]</td>\n",
       "      <td>[cultureclash]</td>\n",
       "      <td>[In, the, 22nd, century,, a, paraplegic, Marin...</td>\n",
       "      <td>Avatar</td>\n",
       "      <td>19995</td>\n",
       "      <td>[SamWorthington, ZoeSaldana, SigourneyWeaver]</td>\n",
       "      <td>[JamesCameron]</td>\n",
       "    </tr>\n",
       "    <tr>\n",
       "      <th>1</th>\n",
       "      <td>[Adventure]</td>\n",
       "      <td>[ocean]</td>\n",
       "      <td>[Captain, Barbossa,, long, believed, to, be, d...</td>\n",
       "      <td>Pirates of the Caribbean: At World's End</td>\n",
       "      <td>285</td>\n",
       "      <td>[JohnnyDepp, OrlandoBloom, KeiraKnightley]</td>\n",
       "      <td>[GoreVerbinski]</td>\n",
       "    </tr>\n",
       "    <tr>\n",
       "      <th>2</th>\n",
       "      <td>[Action]</td>\n",
       "      <td>[spy]</td>\n",
       "      <td>[A, cryptic, message, from, Bond’s, past, send...</td>\n",
       "      <td>Spectre</td>\n",
       "      <td>206647</td>\n",
       "      <td>[DanielCraig, ChristophWaltz, LéaSeydoux]</td>\n",
       "      <td>[SamMendes]</td>\n",
       "    </tr>\n",
       "    <tr>\n",
       "      <th>3</th>\n",
       "      <td>[Action]</td>\n",
       "      <td>[dccomics]</td>\n",
       "      <td>[Following, the, death, of, District, Attorney...</td>\n",
       "      <td>The Dark Knight Rises</td>\n",
       "      <td>49026</td>\n",
       "      <td>[ChristianBale, MichaelCaine, GaryOldman]</td>\n",
       "      <td>[ChristopherNolan]</td>\n",
       "    </tr>\n",
       "    <tr>\n",
       "      <th>4</th>\n",
       "      <td>[Action]</td>\n",
       "      <td>[basedonnovel]</td>\n",
       "      <td>[John, Carter, is, a, war-weary,, former, mili...</td>\n",
       "      <td>John Carter</td>\n",
       "      <td>49529</td>\n",
       "      <td>[TaylorKitsch, LynnCollins, SamanthaMorton]</td>\n",
       "      <td>[AndrewStanton]</td>\n",
       "    </tr>\n",
       "  </tbody>\n",
       "</table>\n",
       "</div>"
      ],
      "text/plain": [
       "        genres        keywords  \\\n",
       "0     [Action]  [cultureclash]   \n",
       "1  [Adventure]         [ocean]   \n",
       "2     [Action]           [spy]   \n",
       "3     [Action]      [dccomics]   \n",
       "4     [Action]  [basedonnovel]   \n",
       "\n",
       "                                            overview  \\\n",
       "0  [In, the, 22nd, century,, a, paraplegic, Marin...   \n",
       "1  [Captain, Barbossa,, long, believed, to, be, d...   \n",
       "2  [A, cryptic, message, from, Bond’s, past, send...   \n",
       "3  [Following, the, death, of, District, Attorney...   \n",
       "4  [John, Carter, is, a, war-weary,, former, mili...   \n",
       "\n",
       "                                      title  movie_id  \\\n",
       "0                                    Avatar     19995   \n",
       "1  Pirates of the Caribbean: At World's End       285   \n",
       "2                                   Spectre    206647   \n",
       "3                     The Dark Knight Rises     49026   \n",
       "4                               John Carter     49529   \n",
       "\n",
       "                                            cast                crew  \n",
       "0  [SamWorthington, ZoeSaldana, SigourneyWeaver]      [JamesCameron]  \n",
       "1     [JohnnyDepp, OrlandoBloom, KeiraKnightley]     [GoreVerbinski]  \n",
       "2      [DanielCraig, ChristophWaltz, LéaSeydoux]         [SamMendes]  \n",
       "3      [ChristianBale, MichaelCaine, GaryOldman]  [ChristopherNolan]  \n",
       "4    [TaylorKitsch, LynnCollins, SamanthaMorton]     [AndrewStanton]  "
      ]
     },
     "execution_count": 45,
     "metadata": {},
     "output_type": "execute_result"
    }
   ],
   "source": [
    "movies.head()"
   ]
  },
  {
   "cell_type": "code",
   "execution_count": null,
   "id": "6d940d42-31aa-4fa9-9fdf-87550d2a16ed",
   "metadata": {},
   "outputs": [],
   "source": [
    "# now after filtered we will concatinate = overview\t,cast ,crew,genres,keywords into anew colum that is tags."
   ]
  },
  {
   "cell_type": "code",
   "execution_count": 46,
   "id": "48c5377a-d93d-4f00-a5fc-78acd6d3558c",
   "metadata": {
    "tags": []
   },
   "outputs": [],
   "source": [
    "movies [\"tags\"]=movies[\"overview\"] + movies[\"genres\"] + movies[\"keywords\"] + movies[\"cast\"] + movies[\"crew\"]"
   ]
  },
  {
   "cell_type": "code",
   "execution_count": 47,
   "id": "85fe60f5-792d-4627-8bff-eb3f66ecb962",
   "metadata": {
    "tags": []
   },
   "outputs": [
    {
     "data": {
      "text/html": [
       "<div>\n",
       "<style scoped>\n",
       "    .dataframe tbody tr th:only-of-type {\n",
       "        vertical-align: middle;\n",
       "    }\n",
       "\n",
       "    .dataframe tbody tr th {\n",
       "        vertical-align: top;\n",
       "    }\n",
       "\n",
       "    .dataframe thead th {\n",
       "        text-align: right;\n",
       "    }\n",
       "</style>\n",
       "<table border=\"1\" class=\"dataframe\">\n",
       "  <thead>\n",
       "    <tr style=\"text-align: right;\">\n",
       "      <th></th>\n",
       "      <th>genres</th>\n",
       "      <th>keywords</th>\n",
       "      <th>overview</th>\n",
       "      <th>title</th>\n",
       "      <th>movie_id</th>\n",
       "      <th>cast</th>\n",
       "      <th>crew</th>\n",
       "      <th>tags</th>\n",
       "    </tr>\n",
       "  </thead>\n",
       "  <tbody>\n",
       "    <tr>\n",
       "      <th>0</th>\n",
       "      <td>[Action]</td>\n",
       "      <td>[cultureclash]</td>\n",
       "      <td>[In, the, 22nd, century,, a, paraplegic, Marin...</td>\n",
       "      <td>Avatar</td>\n",
       "      <td>19995</td>\n",
       "      <td>[SamWorthington, ZoeSaldana, SigourneyWeaver]</td>\n",
       "      <td>[JamesCameron]</td>\n",
       "      <td>[In, the, 22nd, century,, a, paraplegic, Marin...</td>\n",
       "    </tr>\n",
       "    <tr>\n",
       "      <th>1</th>\n",
       "      <td>[Adventure]</td>\n",
       "      <td>[ocean]</td>\n",
       "      <td>[Captain, Barbossa,, long, believed, to, be, d...</td>\n",
       "      <td>Pirates of the Caribbean: At World's End</td>\n",
       "      <td>285</td>\n",
       "      <td>[JohnnyDepp, OrlandoBloom, KeiraKnightley]</td>\n",
       "      <td>[GoreVerbinski]</td>\n",
       "      <td>[Captain, Barbossa,, long, believed, to, be, d...</td>\n",
       "    </tr>\n",
       "    <tr>\n",
       "      <th>2</th>\n",
       "      <td>[Action]</td>\n",
       "      <td>[spy]</td>\n",
       "      <td>[A, cryptic, message, from, Bond’s, past, send...</td>\n",
       "      <td>Spectre</td>\n",
       "      <td>206647</td>\n",
       "      <td>[DanielCraig, ChristophWaltz, LéaSeydoux]</td>\n",
       "      <td>[SamMendes]</td>\n",
       "      <td>[A, cryptic, message, from, Bond’s, past, send...</td>\n",
       "    </tr>\n",
       "    <tr>\n",
       "      <th>3</th>\n",
       "      <td>[Action]</td>\n",
       "      <td>[dccomics]</td>\n",
       "      <td>[Following, the, death, of, District, Attorney...</td>\n",
       "      <td>The Dark Knight Rises</td>\n",
       "      <td>49026</td>\n",
       "      <td>[ChristianBale, MichaelCaine, GaryOldman]</td>\n",
       "      <td>[ChristopherNolan]</td>\n",
       "      <td>[Following, the, death, of, District, Attorney...</td>\n",
       "    </tr>\n",
       "    <tr>\n",
       "      <th>4</th>\n",
       "      <td>[Action]</td>\n",
       "      <td>[basedonnovel]</td>\n",
       "      <td>[John, Carter, is, a, war-weary,, former, mili...</td>\n",
       "      <td>John Carter</td>\n",
       "      <td>49529</td>\n",
       "      <td>[TaylorKitsch, LynnCollins, SamanthaMorton]</td>\n",
       "      <td>[AndrewStanton]</td>\n",
       "      <td>[John, Carter, is, a, war-weary,, former, mili...</td>\n",
       "    </tr>\n",
       "  </tbody>\n",
       "</table>\n",
       "</div>"
      ],
      "text/plain": [
       "        genres        keywords  \\\n",
       "0     [Action]  [cultureclash]   \n",
       "1  [Adventure]         [ocean]   \n",
       "2     [Action]           [spy]   \n",
       "3     [Action]      [dccomics]   \n",
       "4     [Action]  [basedonnovel]   \n",
       "\n",
       "                                            overview  \\\n",
       "0  [In, the, 22nd, century,, a, paraplegic, Marin...   \n",
       "1  [Captain, Barbossa,, long, believed, to, be, d...   \n",
       "2  [A, cryptic, message, from, Bond’s, past, send...   \n",
       "3  [Following, the, death, of, District, Attorney...   \n",
       "4  [John, Carter, is, a, war-weary,, former, mili...   \n",
       "\n",
       "                                      title  movie_id  \\\n",
       "0                                    Avatar     19995   \n",
       "1  Pirates of the Caribbean: At World's End       285   \n",
       "2                                   Spectre    206647   \n",
       "3                     The Dark Knight Rises     49026   \n",
       "4                               John Carter     49529   \n",
       "\n",
       "                                            cast                crew  \\\n",
       "0  [SamWorthington, ZoeSaldana, SigourneyWeaver]      [JamesCameron]   \n",
       "1     [JohnnyDepp, OrlandoBloom, KeiraKnightley]     [GoreVerbinski]   \n",
       "2      [DanielCraig, ChristophWaltz, LéaSeydoux]         [SamMendes]   \n",
       "3      [ChristianBale, MichaelCaine, GaryOldman]  [ChristopherNolan]   \n",
       "4    [TaylorKitsch, LynnCollins, SamanthaMorton]     [AndrewStanton]   \n",
       "\n",
       "                                                tags  \n",
       "0  [In, the, 22nd, century,, a, paraplegic, Marin...  \n",
       "1  [Captain, Barbossa,, long, believed, to, be, d...  \n",
       "2  [A, cryptic, message, from, Bond’s, past, send...  \n",
       "3  [Following, the, death, of, District, Attorney...  \n",
       "4  [John, Carter, is, a, war-weary,, former, mili...  "
      ]
     },
     "execution_count": 47,
     "metadata": {},
     "output_type": "execute_result"
    }
   ],
   "source": [
    "movies.head()"
   ]
  },
  {
   "cell_type": "code",
   "execution_count": null,
   "id": "5b618b4f-d7f3-46d5-8c5f-a90d272f6678",
   "metadata": {},
   "outputs": [],
   "source": [
    "# now we will create a new dataframe columns name= movie_ID, tile, tags "
   ]
  },
  {
   "cell_type": "code",
   "execution_count": 49,
   "id": "145f02e4-2458-47ad-bdf2-19d5529c8698",
   "metadata": {
    "tags": []
   },
   "outputs": [
    {
     "data": {
      "text/html": [
       "<div>\n",
       "<style scoped>\n",
       "    .dataframe tbody tr th:only-of-type {\n",
       "        vertical-align: middle;\n",
       "    }\n",
       "\n",
       "    .dataframe tbody tr th {\n",
       "        vertical-align: top;\n",
       "    }\n",
       "\n",
       "    .dataframe thead th {\n",
       "        text-align: right;\n",
       "    }\n",
       "</style>\n",
       "<table border=\"1\" class=\"dataframe\">\n",
       "  <thead>\n",
       "    <tr style=\"text-align: right;\">\n",
       "      <th></th>\n",
       "      <th>movie_id</th>\n",
       "      <th>title</th>\n",
       "      <th>tags</th>\n",
       "    </tr>\n",
       "  </thead>\n",
       "  <tbody>\n",
       "    <tr>\n",
       "      <th>0</th>\n",
       "      <td>19995</td>\n",
       "      <td>Avatar</td>\n",
       "      <td>[In, the, 22nd, century,, a, paraplegic, Marin...</td>\n",
       "    </tr>\n",
       "    <tr>\n",
       "      <th>1</th>\n",
       "      <td>285</td>\n",
       "      <td>Pirates of the Caribbean: At World's End</td>\n",
       "      <td>[Captain, Barbossa,, long, believed, to, be, d...</td>\n",
       "    </tr>\n",
       "    <tr>\n",
       "      <th>2</th>\n",
       "      <td>206647</td>\n",
       "      <td>Spectre</td>\n",
       "      <td>[A, cryptic, message, from, Bond’s, past, send...</td>\n",
       "    </tr>\n",
       "    <tr>\n",
       "      <th>3</th>\n",
       "      <td>49026</td>\n",
       "      <td>The Dark Knight Rises</td>\n",
       "      <td>[Following, the, death, of, District, Attorney...</td>\n",
       "    </tr>\n",
       "    <tr>\n",
       "      <th>4</th>\n",
       "      <td>49529</td>\n",
       "      <td>John Carter</td>\n",
       "      <td>[John, Carter, is, a, war-weary,, former, mili...</td>\n",
       "    </tr>\n",
       "    <tr>\n",
       "      <th>...</th>\n",
       "      <td>...</td>\n",
       "      <td>...</td>\n",
       "      <td>...</td>\n",
       "    </tr>\n",
       "    <tr>\n",
       "      <th>4804</th>\n",
       "      <td>9367</td>\n",
       "      <td>El Mariachi</td>\n",
       "      <td>[El, Mariachi, just, wants, to, play, his, gui...</td>\n",
       "    </tr>\n",
       "    <tr>\n",
       "      <th>4805</th>\n",
       "      <td>72766</td>\n",
       "      <td>Newlyweds</td>\n",
       "      <td>NaN</td>\n",
       "    </tr>\n",
       "    <tr>\n",
       "      <th>4806</th>\n",
       "      <td>231617</td>\n",
       "      <td>Signed, Sealed, Delivered</td>\n",
       "      <td>[\"Signed,, Sealed,, Delivered\", introduces, a,...</td>\n",
       "    </tr>\n",
       "    <tr>\n",
       "      <th>4807</th>\n",
       "      <td>126186</td>\n",
       "      <td>Shanghai Calling</td>\n",
       "      <td>NaN</td>\n",
       "    </tr>\n",
       "    <tr>\n",
       "      <th>4808</th>\n",
       "      <td>25975</td>\n",
       "      <td>My Date with Drew</td>\n",
       "      <td>[Ever, since, the, second, grade, when, he, fi...</td>\n",
       "    </tr>\n",
       "  </tbody>\n",
       "</table>\n",
       "<p>4806 rows × 3 columns</p>\n",
       "</div>"
      ],
      "text/plain": [
       "      movie_id                                     title  \\\n",
       "0        19995                                    Avatar   \n",
       "1          285  Pirates of the Caribbean: At World's End   \n",
       "2       206647                                   Spectre   \n",
       "3        49026                     The Dark Knight Rises   \n",
       "4        49529                               John Carter   \n",
       "...        ...                                       ...   \n",
       "4804      9367                               El Mariachi   \n",
       "4805     72766                                 Newlyweds   \n",
       "4806    231617                 Signed, Sealed, Delivered   \n",
       "4807    126186                          Shanghai Calling   \n",
       "4808     25975                         My Date with Drew   \n",
       "\n",
       "                                                   tags  \n",
       "0     [In, the, 22nd, century,, a, paraplegic, Marin...  \n",
       "1     [Captain, Barbossa,, long, believed, to, be, d...  \n",
       "2     [A, cryptic, message, from, Bond’s, past, send...  \n",
       "3     [Following, the, death, of, District, Attorney...  \n",
       "4     [John, Carter, is, a, war-weary,, former, mili...  \n",
       "...                                                 ...  \n",
       "4804  [El, Mariachi, just, wants, to, play, his, gui...  \n",
       "4805                                                NaN  \n",
       "4806  [\"Signed,, Sealed,, Delivered\", introduces, a,...  \n",
       "4807                                                NaN  \n",
       "4808  [Ever, since, the, second, grade, when, he, fi...  \n",
       "\n",
       "[4806 rows x 3 columns]"
      ]
     },
     "execution_count": 49,
     "metadata": {},
     "output_type": "execute_result"
    }
   ],
   "source": [
    "new_data=movies[[\"movie_id\",\"title\",\"tags\"]]\n",
    "new_data"
   ]
  },
  {
   "cell_type": "code",
   "execution_count": null,
   "id": "84b2bc78-56c0-457c-99b9-798ef2bb6fe2",
   "metadata": {},
   "outputs": [],
   "source": [
    "# now in tags we will convert list in rows  into string we will join through lamba "
   ]
  },
  {
   "cell_type": "code",
   "execution_count": 50,
   "id": "32e01ec3-0f31-4b90-8a72-a86f63667a70",
   "metadata": {
    "tags": []
   },
   "outputs": [
    {
     "ename": "TypeError",
     "evalue": "can only join an iterable",
     "output_type": "error",
     "traceback": [
      "\u001b[1;31m---------------------------------------------------------------------------\u001b[0m",
      "\u001b[1;31mTypeError\u001b[0m                                 Traceback (most recent call last)",
      "Cell \u001b[1;32mIn[50], line 1\u001b[0m\n\u001b[1;32m----> 1\u001b[0m new_data[\u001b[38;5;124m\"\u001b[39m\u001b[38;5;124mtags\u001b[39m\u001b[38;5;124m\"\u001b[39m]\u001b[38;5;241m=\u001b[39mnew_data[\u001b[38;5;124m\"\u001b[39m\u001b[38;5;124mtags\u001b[39m\u001b[38;5;124m\"\u001b[39m]\u001b[38;5;241m.\u001b[39mapply(\u001b[38;5;28;01mlambda\u001b[39;00m x:\u001b[38;5;124m\"\u001b[39m\u001b[38;5;124m \u001b[39m\u001b[38;5;124m\"\u001b[39m\u001b[38;5;241m.\u001b[39mjoin(x))\n",
      "File \u001b[1;32m~\\anaconda3\\Lib\\site-packages\\pandas\\core\\series.py:4771\u001b[0m, in \u001b[0;36mSeries.apply\u001b[1;34m(self, func, convert_dtype, args, **kwargs)\u001b[0m\n\u001b[0;32m   4661\u001b[0m \u001b[38;5;28;01mdef\u001b[39;00m \u001b[38;5;21mapply\u001b[39m(\n\u001b[0;32m   4662\u001b[0m     \u001b[38;5;28mself\u001b[39m,\n\u001b[0;32m   4663\u001b[0m     func: AggFuncType,\n\u001b[1;32m   (...)\u001b[0m\n\u001b[0;32m   4666\u001b[0m     \u001b[38;5;241m*\u001b[39m\u001b[38;5;241m*\u001b[39mkwargs,\n\u001b[0;32m   4667\u001b[0m ) \u001b[38;5;241m-\u001b[39m\u001b[38;5;241m>\u001b[39m DataFrame \u001b[38;5;241m|\u001b[39m Series:\n\u001b[0;32m   4668\u001b[0m \u001b[38;5;250m    \u001b[39m\u001b[38;5;124;03m\"\"\"\u001b[39;00m\n\u001b[0;32m   4669\u001b[0m \u001b[38;5;124;03m    Invoke function on values of Series.\u001b[39;00m\n\u001b[0;32m   4670\u001b[0m \n\u001b[1;32m   (...)\u001b[0m\n\u001b[0;32m   4769\u001b[0m \u001b[38;5;124;03m    dtype: float64\u001b[39;00m\n\u001b[0;32m   4770\u001b[0m \u001b[38;5;124;03m    \"\"\"\u001b[39;00m\n\u001b[1;32m-> 4771\u001b[0m     \u001b[38;5;28;01mreturn\u001b[39;00m SeriesApply(\u001b[38;5;28mself\u001b[39m, func, convert_dtype, args, kwargs)\u001b[38;5;241m.\u001b[39mapply()\n",
      "File \u001b[1;32m~\\anaconda3\\Lib\\site-packages\\pandas\\core\\apply.py:1123\u001b[0m, in \u001b[0;36mSeriesApply.apply\u001b[1;34m(self)\u001b[0m\n\u001b[0;32m   1120\u001b[0m     \u001b[38;5;28;01mreturn\u001b[39;00m \u001b[38;5;28mself\u001b[39m\u001b[38;5;241m.\u001b[39mapply_str()\n\u001b[0;32m   1122\u001b[0m \u001b[38;5;66;03m# self.f is Callable\u001b[39;00m\n\u001b[1;32m-> 1123\u001b[0m \u001b[38;5;28;01mreturn\u001b[39;00m \u001b[38;5;28mself\u001b[39m\u001b[38;5;241m.\u001b[39mapply_standard()\n",
      "File \u001b[1;32m~\\anaconda3\\Lib\\site-packages\\pandas\\core\\apply.py:1174\u001b[0m, in \u001b[0;36mSeriesApply.apply_standard\u001b[1;34m(self)\u001b[0m\n\u001b[0;32m   1172\u001b[0m     \u001b[38;5;28;01melse\u001b[39;00m:\n\u001b[0;32m   1173\u001b[0m         values \u001b[38;5;241m=\u001b[39m obj\u001b[38;5;241m.\u001b[39mastype(\u001b[38;5;28mobject\u001b[39m)\u001b[38;5;241m.\u001b[39m_values\n\u001b[1;32m-> 1174\u001b[0m         mapped \u001b[38;5;241m=\u001b[39m lib\u001b[38;5;241m.\u001b[39mmap_infer(\n\u001b[0;32m   1175\u001b[0m             values,\n\u001b[0;32m   1176\u001b[0m             f,\n\u001b[0;32m   1177\u001b[0m             convert\u001b[38;5;241m=\u001b[39m\u001b[38;5;28mself\u001b[39m\u001b[38;5;241m.\u001b[39mconvert_dtype,\n\u001b[0;32m   1178\u001b[0m         )\n\u001b[0;32m   1180\u001b[0m \u001b[38;5;28;01mif\u001b[39;00m \u001b[38;5;28mlen\u001b[39m(mapped) \u001b[38;5;129;01mand\u001b[39;00m \u001b[38;5;28misinstance\u001b[39m(mapped[\u001b[38;5;241m0\u001b[39m], ABCSeries):\n\u001b[0;32m   1181\u001b[0m     \u001b[38;5;66;03m# GH#43986 Need to do list(mapped) in order to get treated as nested\u001b[39;00m\n\u001b[0;32m   1182\u001b[0m     \u001b[38;5;66;03m#  See also GH#25959 regarding EA support\u001b[39;00m\n\u001b[0;32m   1183\u001b[0m     \u001b[38;5;28;01mreturn\u001b[39;00m obj\u001b[38;5;241m.\u001b[39m_constructor_expanddim(\u001b[38;5;28mlist\u001b[39m(mapped), index\u001b[38;5;241m=\u001b[39mobj\u001b[38;5;241m.\u001b[39mindex)\n",
      "File \u001b[1;32m~\\anaconda3\\Lib\\site-packages\\pandas\\_libs\\lib.pyx:2924\u001b[0m, in \u001b[0;36mpandas._libs.lib.map_infer\u001b[1;34m()\u001b[0m\n",
      "Cell \u001b[1;32mIn[50], line 1\u001b[0m, in \u001b[0;36m<lambda>\u001b[1;34m(x)\u001b[0m\n\u001b[1;32m----> 1\u001b[0m new_data[\u001b[38;5;124m\"\u001b[39m\u001b[38;5;124mtags\u001b[39m\u001b[38;5;124m\"\u001b[39m]\u001b[38;5;241m=\u001b[39mnew_data[\u001b[38;5;124m\"\u001b[39m\u001b[38;5;124mtags\u001b[39m\u001b[38;5;124m\"\u001b[39m]\u001b[38;5;241m.\u001b[39mapply(\u001b[38;5;28;01mlambda\u001b[39;00m x:\u001b[38;5;124m\"\u001b[39m\u001b[38;5;124m \u001b[39m\u001b[38;5;124m\"\u001b[39m\u001b[38;5;241m.\u001b[39mjoin(x))\n",
      "\u001b[1;31mTypeError\u001b[0m: can only join an iterable"
     ]
    }
   ],
   "source": [
    "new_data[\"tags\"]=new_data[\"tags\"].apply(lambda x:\" \".join(x))\n"
   ]
  },
  {
   "cell_type": "code",
   "execution_count": 51,
   "id": "04f392e6-3f2d-46a1-acd9-8cd86b6c8d6d",
   "metadata": {
    "tags": []
   },
   "outputs": [
    {
     "name": "stderr",
     "output_type": "stream",
     "text": [
      "C:\\Users\\pant\\AppData\\Local\\Temp\\ipykernel_2664\\1909019950.py:2: SettingWithCopyWarning: \n",
      "A value is trying to be set on a copy of a slice from a DataFrame.\n",
      "Try using .loc[row_indexer,col_indexer] = value instead\n",
      "\n",
      "See the caveats in the documentation: https://pandas.pydata.org/pandas-docs/stable/user_guide/indexing.html#returning-a-view-versus-a-copy\n",
      "  new_data[\"tags\"] = new_data[\"tags\"].apply(lambda x: \" \".join(x) if isinstance(x, list) else x)\n"
     ]
    }
   ],
   "source": [
    "# Assuming you want to join elements of lists in the \"tags\" column into a single string\n",
    "new_data[\"tags\"] = new_data[\"tags\"].apply(lambda x: \" \".join(x) if isinstance(x, list) else x)\n"
   ]
  },
  {
   "cell_type": "code",
   "execution_count": 52,
   "id": "661c4aaf-073d-401a-9a61-ce12ba9e980c",
   "metadata": {
    "tags": []
   },
   "outputs": [
    {
     "data": {
      "text/html": [
       "<div>\n",
       "<style scoped>\n",
       "    .dataframe tbody tr th:only-of-type {\n",
       "        vertical-align: middle;\n",
       "    }\n",
       "\n",
       "    .dataframe tbody tr th {\n",
       "        vertical-align: top;\n",
       "    }\n",
       "\n",
       "    .dataframe thead th {\n",
       "        text-align: right;\n",
       "    }\n",
       "</style>\n",
       "<table border=\"1\" class=\"dataframe\">\n",
       "  <thead>\n",
       "    <tr style=\"text-align: right;\">\n",
       "      <th></th>\n",
       "      <th>movie_id</th>\n",
       "      <th>title</th>\n",
       "      <th>tags</th>\n",
       "    </tr>\n",
       "  </thead>\n",
       "  <tbody>\n",
       "    <tr>\n",
       "      <th>0</th>\n",
       "      <td>19995</td>\n",
       "      <td>Avatar</td>\n",
       "      <td>In the 22nd century, a paraplegic Marine is di...</td>\n",
       "    </tr>\n",
       "    <tr>\n",
       "      <th>1</th>\n",
       "      <td>285</td>\n",
       "      <td>Pirates of the Caribbean: At World's End</td>\n",
       "      <td>Captain Barbossa, long believed to be dead, ha...</td>\n",
       "    </tr>\n",
       "    <tr>\n",
       "      <th>2</th>\n",
       "      <td>206647</td>\n",
       "      <td>Spectre</td>\n",
       "      <td>A cryptic message from Bond’s past sends him o...</td>\n",
       "    </tr>\n",
       "    <tr>\n",
       "      <th>3</th>\n",
       "      <td>49026</td>\n",
       "      <td>The Dark Knight Rises</td>\n",
       "      <td>Following the death of District Attorney Harve...</td>\n",
       "    </tr>\n",
       "    <tr>\n",
       "      <th>4</th>\n",
       "      <td>49529</td>\n",
       "      <td>John Carter</td>\n",
       "      <td>John Carter is a war-weary, former military ca...</td>\n",
       "    </tr>\n",
       "  </tbody>\n",
       "</table>\n",
       "</div>"
      ],
      "text/plain": [
       "   movie_id                                     title  \\\n",
       "0     19995                                    Avatar   \n",
       "1       285  Pirates of the Caribbean: At World's End   \n",
       "2    206647                                   Spectre   \n",
       "3     49026                     The Dark Knight Rises   \n",
       "4     49529                               John Carter   \n",
       "\n",
       "                                                tags  \n",
       "0  In the 22nd century, a paraplegic Marine is di...  \n",
       "1  Captain Barbossa, long believed to be dead, ha...  \n",
       "2  A cryptic message from Bond’s past sends him o...  \n",
       "3  Following the death of District Attorney Harve...  \n",
       "4  John Carter is a war-weary, former military ca...  "
      ]
     },
     "execution_count": 52,
     "metadata": {},
     "output_type": "execute_result"
    }
   ],
   "source": [
    "new_data.head()"
   ]
  },
  {
   "cell_type": "code",
   "execution_count": null,
   "id": "49bf3665-93a9-4ad6-b00a-5ce1d1ff9d28",
   "metadata": {},
   "outputs": [],
   "source": [
    "# now you can see tags column = where yoy can see concatinate string "
   ]
  },
  {
   "cell_type": "code",
   "execution_count": 53,
   "id": "73ef11b5-411c-4a62-aa4e-ca85be6d6d0b",
   "metadata": {
    "tags": []
   },
   "outputs": [
    {
     "data": {
      "text/plain": [
       "'In the 22nd century, a paraplegic Marine is dispatched to the moon Pandora on a unique mission, but becomes torn between following orders and protecting an alien civilization. Action cultureclash SamWorthington ZoeSaldana SigourneyWeaver JamesCameron'"
      ]
     },
     "execution_count": 53,
     "metadata": {},
     "output_type": "execute_result"
    }
   ],
   "source": [
    "new_data[\"tags\"][0]"
   ]
  },
  {
   "cell_type": "code",
   "execution_count": null,
   "id": "e2a38f3c-44e1-4b00-905a-4fb3a5203a91",
   "metadata": {},
   "outputs": [],
   "source": [
    "# now we will convert this string into lower case small letter for better understanding  "
   ]
  },
  {
   "cell_type": "code",
   "execution_count": 54,
   "id": "aa38c590-0231-4d2f-96ab-7e3416c464f7",
   "metadata": {
    "tags": []
   },
   "outputs": [
    {
     "name": "stderr",
     "output_type": "stream",
     "text": [
      "C:\\Users\\pant\\AppData\\Local\\Temp\\ipykernel_2664\\542696588.py:2: SettingWithCopyWarning: \n",
      "A value is trying to be set on a copy of a slice from a DataFrame.\n",
      "Try using .loc[row_indexer,col_indexer] = value instead\n",
      "\n",
      "See the caveats in the documentation: https://pandas.pydata.org/pandas-docs/stable/user_guide/indexing.html#returning-a-view-versus-a-copy\n",
      "  new_data['tags'] = new_data['tags'].apply(lambda x: x.lower() if isinstance(x, str) else x)\n"
     ]
    }
   ],
   "source": [
    "# Assuming you want to convert string values in the \"tags\" column to lowercase  using google for this \n",
    "new_data['tags'] = new_data['tags'].apply(lambda x: x.lower() if isinstance(x, str) else x)\n"
   ]
  },
  {
   "cell_type": "code",
   "execution_count": 55,
   "id": "42b72e0c-aa6b-44ec-8cb9-156ccabdd955",
   "metadata": {
    "tags": []
   },
   "outputs": [
    {
     "data": {
      "text/html": [
       "<div>\n",
       "<style scoped>\n",
       "    .dataframe tbody tr th:only-of-type {\n",
       "        vertical-align: middle;\n",
       "    }\n",
       "\n",
       "    .dataframe tbody tr th {\n",
       "        vertical-align: top;\n",
       "    }\n",
       "\n",
       "    .dataframe thead th {\n",
       "        text-align: right;\n",
       "    }\n",
       "</style>\n",
       "<table border=\"1\" class=\"dataframe\">\n",
       "  <thead>\n",
       "    <tr style=\"text-align: right;\">\n",
       "      <th></th>\n",
       "      <th>movie_id</th>\n",
       "      <th>title</th>\n",
       "      <th>tags</th>\n",
       "    </tr>\n",
       "  </thead>\n",
       "  <tbody>\n",
       "    <tr>\n",
       "      <th>0</th>\n",
       "      <td>19995</td>\n",
       "      <td>Avatar</td>\n",
       "      <td>in the 22nd century, a paraplegic marine is di...</td>\n",
       "    </tr>\n",
       "    <tr>\n",
       "      <th>1</th>\n",
       "      <td>285</td>\n",
       "      <td>Pirates of the Caribbean: At World's End</td>\n",
       "      <td>captain barbossa, long believed to be dead, ha...</td>\n",
       "    </tr>\n",
       "    <tr>\n",
       "      <th>2</th>\n",
       "      <td>206647</td>\n",
       "      <td>Spectre</td>\n",
       "      <td>a cryptic message from bond’s past sends him o...</td>\n",
       "    </tr>\n",
       "    <tr>\n",
       "      <th>3</th>\n",
       "      <td>49026</td>\n",
       "      <td>The Dark Knight Rises</td>\n",
       "      <td>following the death of district attorney harve...</td>\n",
       "    </tr>\n",
       "    <tr>\n",
       "      <th>4</th>\n",
       "      <td>49529</td>\n",
       "      <td>John Carter</td>\n",
       "      <td>john carter is a war-weary, former military ca...</td>\n",
       "    </tr>\n",
       "  </tbody>\n",
       "</table>\n",
       "</div>"
      ],
      "text/plain": [
       "   movie_id                                     title  \\\n",
       "0     19995                                    Avatar   \n",
       "1       285  Pirates of the Caribbean: At World's End   \n",
       "2    206647                                   Spectre   \n",
       "3     49026                     The Dark Knight Rises   \n",
       "4     49529                               John Carter   \n",
       "\n",
       "                                                tags  \n",
       "0  in the 22nd century, a paraplegic marine is di...  \n",
       "1  captain barbossa, long believed to be dead, ha...  \n",
       "2  a cryptic message from bond’s past sends him o...  \n",
       "3  following the death of district attorney harve...  \n",
       "4  john carter is a war-weary, former military ca...  "
      ]
     },
     "execution_count": 55,
     "metadata": {},
     "output_type": "execute_result"
    }
   ],
   "source": [
    "new_data.head()"
   ]
  },
  {
   "cell_type": "code",
   "execution_count": 56,
   "id": "385b8afb-3fc9-4033-8c22-229cd42bb361",
   "metadata": {
    "tags": []
   },
   "outputs": [],
   "source": [
    "import nltk\n"
   ]
  },
  {
   "cell_type": "code",
   "execution_count": null,
   "id": "f02b22d2-1a5f-434d-afb2-265716588625",
   "metadata": {},
   "outputs": [],
   "source": [
    "#we will use stem function to make repeated woed in in one manner porterstammer"
   ]
  },
  {
   "cell_type": "code",
   "execution_count": 57,
   "id": "cc1c63d4-5c16-4ed5-a8a8-f1599ff5834f",
   "metadata": {
    "tags": []
   },
   "outputs": [],
   "source": [
    "from nltk.stem.porter import PorterStemmer\n",
    "ps=PorterStemmer()"
   ]
  },
  {
   "cell_type": "code",
   "execution_count": null,
   "id": "a211bdd6-0cf6-48b7-88d5-8c44292a3e66",
   "metadata": {},
   "outputs": [],
   "source": [
    "# we will use a def function to stem every words "
   ]
  },
  {
   "cell_type": "code",
   "execution_count": 58,
   "id": "6529c231-769b-49c0-b71a-17f4dfbc4bc4",
   "metadata": {
    "tags": []
   },
   "outputs": [],
   "source": [
    "def stem(text):\n",
    "    st=[]\n",
    "    for i in text.split():     #breaking the words \n",
    "        st.append(ps.stem(i))  # will stem the words \n",
    "    return \" \".join(st)   "
   ]
  },
  {
   "cell_type": "code",
   "execution_count": 59,
   "id": "a0fe3d56-6560-48a4-94fb-dfc01a048e1f",
   "metadata": {
    "tags": []
   },
   "outputs": [
    {
     "ename": "KeyError",
     "evalue": "'text'",
     "output_type": "error",
     "traceback": [
      "\u001b[1;31m---------------------------------------------------------------------------\u001b[0m",
      "\u001b[1;31mKeyError\u001b[0m                                  Traceback (most recent call last)",
      "File \u001b[1;32m~\\anaconda3\\Lib\\site-packages\\pandas\\core\\indexes\\base.py:3802\u001b[0m, in \u001b[0;36mIndex.get_loc\u001b[1;34m(self, key, method, tolerance)\u001b[0m\n\u001b[0;32m   3801\u001b[0m \u001b[38;5;28;01mtry\u001b[39;00m:\n\u001b[1;32m-> 3802\u001b[0m     \u001b[38;5;28;01mreturn\u001b[39;00m \u001b[38;5;28mself\u001b[39m\u001b[38;5;241m.\u001b[39m_engine\u001b[38;5;241m.\u001b[39mget_loc(casted_key)\n\u001b[0;32m   3803\u001b[0m \u001b[38;5;28;01mexcept\u001b[39;00m \u001b[38;5;167;01mKeyError\u001b[39;00m \u001b[38;5;28;01mas\u001b[39;00m err:\n",
      "File \u001b[1;32m~\\anaconda3\\Lib\\site-packages\\pandas\\_libs\\index.pyx:138\u001b[0m, in \u001b[0;36mpandas._libs.index.IndexEngine.get_loc\u001b[1;34m()\u001b[0m\n",
      "File \u001b[1;32m~\\anaconda3\\Lib\\site-packages\\pandas\\_libs\\index.pyx:165\u001b[0m, in \u001b[0;36mpandas._libs.index.IndexEngine.get_loc\u001b[1;34m()\u001b[0m\n",
      "File \u001b[1;32mpandas\\_libs\\hashtable_class_helper.pxi:5745\u001b[0m, in \u001b[0;36mpandas._libs.hashtable.PyObjectHashTable.get_item\u001b[1;34m()\u001b[0m\n",
      "File \u001b[1;32mpandas\\_libs\\hashtable_class_helper.pxi:5753\u001b[0m, in \u001b[0;36mpandas._libs.hashtable.PyObjectHashTable.get_item\u001b[1;34m()\u001b[0m\n",
      "\u001b[1;31mKeyError\u001b[0m: 'text'",
      "\nThe above exception was the direct cause of the following exception:\n",
      "\u001b[1;31mKeyError\u001b[0m                                  Traceback (most recent call last)",
      "Cell \u001b[1;32mIn[59], line 13\u001b[0m\n\u001b[0;32m     10\u001b[0m         \u001b[38;5;28;01mreturn\u001b[39;00m text\n\u001b[0;32m     12\u001b[0m \u001b[38;5;66;03m# Apply the stem function to your DataFrame column\u001b[39;00m\n\u001b[1;32m---> 13\u001b[0m new_data[\u001b[38;5;124m'\u001b[39m\u001b[38;5;124mtext\u001b[39m\u001b[38;5;124m'\u001b[39m] \u001b[38;5;241m=\u001b[39m new_data[\u001b[38;5;124m'\u001b[39m\u001b[38;5;124mtext\u001b[39m\u001b[38;5;124m'\u001b[39m]\u001b[38;5;241m.\u001b[39mapply(stem)\n",
      "File \u001b[1;32m~\\anaconda3\\Lib\\site-packages\\pandas\\core\\frame.py:3807\u001b[0m, in \u001b[0;36mDataFrame.__getitem__\u001b[1;34m(self, key)\u001b[0m\n\u001b[0;32m   3805\u001b[0m \u001b[38;5;28;01mif\u001b[39;00m \u001b[38;5;28mself\u001b[39m\u001b[38;5;241m.\u001b[39mcolumns\u001b[38;5;241m.\u001b[39mnlevels \u001b[38;5;241m>\u001b[39m \u001b[38;5;241m1\u001b[39m:\n\u001b[0;32m   3806\u001b[0m     \u001b[38;5;28;01mreturn\u001b[39;00m \u001b[38;5;28mself\u001b[39m\u001b[38;5;241m.\u001b[39m_getitem_multilevel(key)\n\u001b[1;32m-> 3807\u001b[0m indexer \u001b[38;5;241m=\u001b[39m \u001b[38;5;28mself\u001b[39m\u001b[38;5;241m.\u001b[39mcolumns\u001b[38;5;241m.\u001b[39mget_loc(key)\n\u001b[0;32m   3808\u001b[0m \u001b[38;5;28;01mif\u001b[39;00m is_integer(indexer):\n\u001b[0;32m   3809\u001b[0m     indexer \u001b[38;5;241m=\u001b[39m [indexer]\n",
      "File \u001b[1;32m~\\anaconda3\\Lib\\site-packages\\pandas\\core\\indexes\\base.py:3804\u001b[0m, in \u001b[0;36mIndex.get_loc\u001b[1;34m(self, key, method, tolerance)\u001b[0m\n\u001b[0;32m   3802\u001b[0m     \u001b[38;5;28;01mreturn\u001b[39;00m \u001b[38;5;28mself\u001b[39m\u001b[38;5;241m.\u001b[39m_engine\u001b[38;5;241m.\u001b[39mget_loc(casted_key)\n\u001b[0;32m   3803\u001b[0m \u001b[38;5;28;01mexcept\u001b[39;00m \u001b[38;5;167;01mKeyError\u001b[39;00m \u001b[38;5;28;01mas\u001b[39;00m err:\n\u001b[1;32m-> 3804\u001b[0m     \u001b[38;5;28;01mraise\u001b[39;00m \u001b[38;5;167;01mKeyError\u001b[39;00m(key) \u001b[38;5;28;01mfrom\u001b[39;00m \u001b[38;5;21;01merr\u001b[39;00m\n\u001b[0;32m   3805\u001b[0m \u001b[38;5;28;01mexcept\u001b[39;00m \u001b[38;5;167;01mTypeError\u001b[39;00m:\n\u001b[0;32m   3806\u001b[0m     \u001b[38;5;66;03m# If we have a listlike key, _check_indexing_error will raise\u001b[39;00m\n\u001b[0;32m   3807\u001b[0m     \u001b[38;5;66;03m#  InvalidIndexError. Otherwise we fall through and re-raise\u001b[39;00m\n\u001b[0;32m   3808\u001b[0m     \u001b[38;5;66;03m#  the TypeError.\u001b[39;00m\n\u001b[0;32m   3809\u001b[0m     \u001b[38;5;28mself\u001b[39m\u001b[38;5;241m.\u001b[39m_check_indexing_error(key)\n",
      "\u001b[1;31mKeyError\u001b[0m: 'text'"
     ]
    }
   ],
   "source": [
    "\n",
    "def stem(text):\n",
    "    # Check if the text is not NaN (a float)\n",
    "    if isinstance(text, str):\n",
    "        st = []\n",
    "        for i in text.split():  # breaking the words\n",
    "            st.append(ps.stem(i))  # will stem the words\n",
    "        return \" \".join(st)\n",
    "    else:\n",
    "        # Handle non-string (float or NaN) values\n",
    "        return text\n",
    "\n",
    "# Apply the stem function to your DataFrame column\n",
    "new_data['text'] = new_data['text'].apply(stem)\n"
   ]
  },
  {
   "cell_type": "code",
   "execution_count": 65,
   "id": "e887d1d3-17e6-47d2-b359-818dad273b10",
   "metadata": {
    "tags": []
   },
   "outputs": [
    {
     "data": {
      "text/plain": [
       "0       in the 22nd century, a parapleg marin is dispa...\n",
       "1       captain barbossa, long believ to be dead, ha c...\n",
       "2       a cryptic messag from bond’ past send him on a...\n",
       "3       follow the death of district attorney harvey d...\n",
       "4       john carter is a war-weary, former militari ca...\n",
       "                              ...                        \n",
       "4804    el mariachi just want to play hi guitar and ca...\n",
       "4805                                                  NaN\n",
       "4806    \"signed, sealed, delivered\" introduc a dedic q...\n",
       "4807                                                  NaN\n",
       "4808    ever sinc the second grade when he first saw h...\n",
       "Name: tags, Length: 4806, dtype: object"
      ]
     },
     "execution_count": 65,
     "metadata": {},
     "output_type": "execute_result"
    }
   ],
   "source": [
    "new_data[\"tags\"].apply(stem)"
   ]
  },
  {
   "cell_type": "code",
   "execution_count": 66,
   "id": "a629daa6-35e2-4b19-a030-6325e75b64ef",
   "metadata": {
    "tags": []
   },
   "outputs": [
    {
     "name": "stderr",
     "output_type": "stream",
     "text": [
      "C:\\Users\\pant\\AppData\\Local\\Temp\\ipykernel_2664\\599390026.py:1: SettingWithCopyWarning: \n",
      "A value is trying to be set on a copy of a slice from a DataFrame.\n",
      "Try using .loc[row_indexer,col_indexer] = value instead\n",
      "\n",
      "See the caveats in the documentation: https://pandas.pydata.org/pandas-docs/stable/user_guide/indexing.html#returning-a-view-versus-a-copy\n",
      "  new_data[\"tags\"]=new_data[\"tags\"].apply(stem)\n"
     ]
    }
   ],
   "source": [
    "new_data[\"tags\"]=new_data[\"tags\"].apply(stem)"
   ]
  },
  {
   "cell_type": "code",
   "execution_count": null,
   "id": "0f8ff120-d9c2-4065-813b-f3a0b553a9be",
   "metadata": {},
   "outputs": [],
   "source": [
    "# after complete this process will continue start with CountVectorizer"
   ]
  },
  {
   "cell_type": "code",
   "execution_count": null,
   "id": "abec2022-c7bd-4ca4-967e-61beedafafd5",
   "metadata": {},
   "outputs": [],
   "source": [
    "# now we will use text vectorisation using sklearn countvetoristaion \n",
    "# and will use hyperparameter max_features and stop word "
   ]
  },
  {
   "cell_type": "code",
   "execution_count": null,
   "id": "f37ecebb-cefc-4fb2-ab0f-2cf5b2149339",
   "metadata": {},
   "outputs": [],
   "source": [
    "# now we will convert vector into array because of requirement "
   ]
  },
  {
   "cell_type": "code",
   "execution_count": 67,
   "id": "07fd64bf-3383-4f78-9297-c03e05e885a5",
   "metadata": {
    "tags": []
   },
   "outputs": [
    {
     "name": "stderr",
     "output_type": "stream",
     "text": [
      "C:\\Users\\pant\\AppData\\Local\\Temp\\ipykernel_2664\\3372116306.py:2: SettingWithCopyWarning: \n",
      "A value is trying to be set on a copy of a slice from a DataFrame\n",
      "\n",
      "See the caveats in the documentation: https://pandas.pydata.org/pandas-docs/stable/user_guide/indexing.html#returning-a-view-versus-a-copy\n",
      "  new_data[\"tags\"].fillna('', inplace=True)\n"
     ]
    }
   ],
   "source": [
    "# Fill NaN values in the \"tags\" column with an empty string\n",
    "new_data[\"tags\"].fillna('', inplace=True)\n",
    "\n",
    "# Now, you can apply the CountVectorizer\n",
    "from sklearn.feature_extraction.text import CountVectorizer\n",
    "cv = CountVectorizer(max_features=5000,stop_words=\"english\")\n",
    "vectors = cv.fit_transform(new_data[\"tags\"]).toarray()\n"
   ]
  },
  {
   "cell_type": "code",
   "execution_count": null,
   "id": "e8215be0-53a8-4035-b4f4-06ace13012cd",
   "metadata": {},
   "outputs": [],
   "source": [
    "# you can see its shape  #we HAVE 4806 MOVIE AND WE HAVE TRANSFORM 5000"
   ]
  },
  {
   "cell_type": "code",
   "execution_count": 68,
   "id": "5eee6c77-30a9-46db-bfe6-796aaf40cf13",
   "metadata": {
    "tags": []
   },
   "outputs": [
    {
     "data": {
      "text/plain": [
       "(4806, 5000)"
      ]
     },
     "execution_count": 68,
     "metadata": {},
     "output_type": "execute_result"
    }
   ],
   "source": [
    "cv.fit_transform(new_data[\"tags\"]).toarray().shape"
   ]
  },
  {
   "cell_type": "code",
   "execution_count": null,
   "id": "735e14cc-bd7d-4f28-9f66-dd733513ec3c",
   "metadata": {},
   "outputs": [],
   "source": [
    "# NOW WE WILL CALL IT AS VECTORS "
   ]
  },
  {
   "cell_type": "code",
   "execution_count": 69,
   "id": "8e15c93f-7b57-4233-ad27-fc3b1b4fb1e2",
   "metadata": {
    "tags": []
   },
   "outputs": [],
   "source": [
    "vectors=cv.fit_transform(new_data[\"tags\"]).toarray()"
   ]
  },
  {
   "cell_type": "code",
   "execution_count": 70,
   "id": "f84473e1-3f97-40b5-94c0-a3a26ecaba1e",
   "metadata": {
    "tags": []
   },
   "outputs": [
    {
     "data": {
      "text/plain": [
       "array([[0, 0, 0, ..., 0, 0, 0],\n",
       "       [0, 0, 0, ..., 0, 0, 0],\n",
       "       [0, 0, 0, ..., 0, 0, 0],\n",
       "       ...,\n",
       "       [0, 0, 0, ..., 0, 0, 0],\n",
       "       [0, 0, 0, ..., 0, 0, 0],\n",
       "       [0, 0, 0, ..., 0, 0, 0]], dtype=int64)"
      ]
     },
     "execution_count": 70,
     "metadata": {},
     "output_type": "execute_result"
    }
   ],
   "source": [
    "vectors     # now every movies are in the form of vectors "
   ]
  },
  {
   "cell_type": "code",
   "execution_count": null,
   "id": "6e362a2b-b010-40c7-badf-ac02d15bb69a",
   "metadata": {},
   "outputs": [],
   "source": [
    "# now lets chek first movie avatar "
   ]
  },
  {
   "cell_type": "code",
   "execution_count": 71,
   "id": "8a8cceb2-428c-4066-af8c-530b5f718ede",
   "metadata": {
    "tags": []
   },
   "outputs": [
    {
     "data": {
      "text/plain": [
       "array([0, 0, 0, ..., 0, 0, 0], dtype=int64)"
      ]
     },
     "execution_count": 71,
     "metadata": {},
     "output_type": "execute_result"
    }
   ],
   "source": [
    "vectors[0]   # in a singlw movie 5000 word in not possble that is why it is showing 0.in array"
   ]
  },
  {
   "cell_type": "code",
   "execution_count": null,
   "id": "7d393c4b-cb31-4c80-ae07-24af19a17ef6",
   "metadata": {},
   "outputs": [],
   "source": [
    "# cv we have used avove it has a function name called cv.get_featurs_names()"
   ]
  },
  {
   "cell_type": "code",
   "execution_count": 72,
   "id": "8f54c94f-76b7-47da-af95-8700683f9367",
   "metadata": {
    "tags": []
   },
   "outputs": [
    {
     "ename": "AttributeError",
     "evalue": "'CountVectorizer' object has no attribute 'get_feature_names'",
     "output_type": "error",
     "traceback": [
      "\u001b[1;31m---------------------------------------------------------------------------\u001b[0m",
      "\u001b[1;31mAttributeError\u001b[0m                            Traceback (most recent call last)",
      "Cell \u001b[1;32mIn[72], line 1\u001b[0m\n\u001b[1;32m----> 1\u001b[0m cv\u001b[38;5;241m.\u001b[39mget_feature_names()\n",
      "\u001b[1;31mAttributeError\u001b[0m: 'CountVectorizer' object has no attribute 'get_feature_names'"
     ]
    }
   ],
   "source": [
    "cv.get_feature_names()   # because of his error i got help from google use the code in below"
   ]
  },
  {
   "cell_type": "code",
   "execution_count": 73,
   "id": "2b483932-09a6-4cc5-8cd1-8979fa792ad4",
   "metadata": {
    "tags": []
   },
   "outputs": [
    {
     "name": "stdout",
     "output_type": "stream",
     "text": [
      "['000' '007' '10' ... 'zone' 'zoo' 'zooeydeschanel']\n"
     ]
    }
   ],
   "source": [
    "# Assuming you have already fit_transformed your data with the CountVectorizer (cv)\n",
    "# Use the get_feature_names_out() method to get feature names\n",
    "feature_names = cv.get_feature_names_out()\n",
    "\n",
    "# Now, you can access the feature names\n",
    "print(feature_names)\n"
   ]
  },
  {
   "cell_type": "code",
   "execution_count": null,
   "id": "39fdc826-5c08-46fd-9e04-3efc70a6fc3a",
   "metadata": {},
   "outputs": [],
   "source": [
    "# now focus on nltk above at the bottom of new_data.head()\n",
    "#we will use stem function to make repeated woed in in one manner"
   ]
  },
  {
   "cell_type": "code",
   "execution_count": null,
   "id": "b6317707-d602-4edb-a2f4-cecec40ea517",
   "metadata": {},
   "outputs": [],
   "source": [
    "# here now we will calculate the cosin distance to know the angle of the vactor \n",
    "# we will use cosin similarity which tells 0 to 1  \n",
    "# 1 means more similarity and 0 means no similarity  "
   ]
  },
  {
   "cell_type": "code",
   "execution_count": 74,
   "id": "a85b2d47-3815-4951-9e63-611ddb6e3c20",
   "metadata": {
    "tags": []
   },
   "outputs": [],
   "source": [
    "from sklearn.metrics.pairwise import cosine_similarity\n"
   ]
  },
  {
   "cell_type": "code",
   "execution_count": 75,
   "id": "9d3d63e3-80af-433e-92ff-8a5b84bba018",
   "metadata": {
    "tags": []
   },
   "outputs": [],
   "source": [
    "similarity=cosine_similarity(vectors)"
   ]
  },
  {
   "cell_type": "code",
   "execution_count": 76,
   "id": "e89054e0-ead1-42a3-a857-50158d1fbf8e",
   "metadata": {
    "tags": []
   },
   "outputs": [
    {
     "data": {
      "text/plain": [
       "array([[1.        , 0.        , 0.04622502, ..., 0.        , 0.        ,\n",
       "        0.        ],\n",
       "       [0.        , 1.        , 0.        , ..., 0.03370999, 0.        ,\n",
       "        0.03580574],\n",
       "       [0.04622502, 0.        , 1.        , ..., 0.02956562, 0.        ,\n",
       "        0.        ],\n",
       "       ...,\n",
       "       [0.        , 0.03370999, 0.02956562, ..., 1.        , 0.        ,\n",
       "        0.04828045],\n",
       "       [0.        , 0.        , 0.        , ..., 0.        , 0.        ,\n",
       "        0.        ],\n",
       "       [0.        , 0.03580574, 0.        , ..., 0.04828045, 0.        ,\n",
       "        1.        ]])"
      ]
     },
     "execution_count": 76,
     "metadata": {},
     "output_type": "execute_result"
    }
   ],
   "source": [
    "similarity"
   ]
  },
  {
   "cell_type": "code",
   "execution_count": 78,
   "id": "d928d683-0a89-4f40-b3d3-d56a44b8fe5a",
   "metadata": {
    "tags": []
   },
   "outputs": [
    {
     "data": {
      "text/plain": [
       "(4806, 4806)"
      ]
     },
     "execution_count": 78,
     "metadata": {},
     "output_type": "execute_result"
    }
   ],
   "source": [
    "similarity.shape"
   ]
  },
  {
   "cell_type": "code",
   "execution_count": 79,
   "id": "c6e7d049-a1a8-49f4-acca-dc8477df8888",
   "metadata": {
    "tags": []
   },
   "outputs": [
    {
     "data": {
      "text/plain": [
       "array([1.        , 0.        , 0.04622502, ..., 0.        , 0.        ,\n",
       "       0.        ])"
      ]
     },
     "execution_count": 79,
     "metadata": {},
     "output_type": "execute_result"
    }
   ],
   "source": [
    "similarity[0] #similarity of first movie with first movie  u can see 1 there"
   ]
  },
  {
   "cell_type": "code",
   "execution_count": 80,
   "id": "c89bd767-7bfb-42f7-90b3-c26c92b4d9b6",
   "metadata": {
    "tags": []
   },
   "outputs": [
    {
     "data": {
      "text/plain": [
       "array([0.        , 1.        , 0.        , ..., 0.03370999, 0.        ,\n",
       "       0.03580574])"
      ]
     },
     "execution_count": 80,
     "metadata": {},
     "output_type": "execute_result"
    }
   ],
   "source": [
    "similarity[1]  #simlirity od second movie with second movie is 1 means good similarity"
   ]
  },
  {
   "cell_type": "code",
   "execution_count": null,
   "id": "5302ed26-6e48-4f1b-98fd-d772bb3b303b",
   "metadata": {},
   "outputs": [],
   "source": [
    "# now we will create a function if some one is giving me a movie it will suggest them five mob]vie according to simiarity"
   ]
  },
  {
   "cell_type": "code",
   "execution_count": null,
   "id": "f2df0449-06eb-42ed-9e93-044e492eb87f",
   "metadata": {},
   "outputs": [],
   "source": [
    "def recommend(movie):\n",
    "    "
   ]
  },
  {
   "cell_type": "code",
   "execution_count": null,
   "id": "c96ccda2-d3ec-4663-a9b0-104682c76cf5",
   "metadata": {},
   "outputs": [],
   "source": [
    "# will fetch the inde here"
   ]
  },
  {
   "cell_type": "code",
   "execution_count": 81,
   "id": "7bf5603e-296a-4874-a559-847779c6da4f",
   "metadata": {
    "tags": []
   },
   "outputs": [
    {
     "data": {
      "text/plain": [
       "0        True\n",
       "1       False\n",
       "2       False\n",
       "3       False\n",
       "4       False\n",
       "        ...  \n",
       "4804    False\n",
       "4805    False\n",
       "4806    False\n",
       "4807    False\n",
       "4808    False\n",
       "Name: title, Length: 4806, dtype: bool"
      ]
     },
     "execution_count": 81,
     "metadata": {},
     "output_type": "execute_result"
    }
   ],
   "source": [
    "new_data[\"title\"]==\"Avatar\""
   ]
  },
  {
   "cell_type": "code",
   "execution_count": 82,
   "id": "a0c3f9a7-b6a6-473a-a158-e93235bd964d",
   "metadata": {
    "tags": []
   },
   "outputs": [
    {
     "data": {
      "text/html": [
       "<div>\n",
       "<style scoped>\n",
       "    .dataframe tbody tr th:only-of-type {\n",
       "        vertical-align: middle;\n",
       "    }\n",
       "\n",
       "    .dataframe tbody tr th {\n",
       "        vertical-align: top;\n",
       "    }\n",
       "\n",
       "    .dataframe thead th {\n",
       "        text-align: right;\n",
       "    }\n",
       "</style>\n",
       "<table border=\"1\" class=\"dataframe\">\n",
       "  <thead>\n",
       "    <tr style=\"text-align: right;\">\n",
       "      <th></th>\n",
       "      <th>movie_id</th>\n",
       "      <th>title</th>\n",
       "      <th>tags</th>\n",
       "    </tr>\n",
       "  </thead>\n",
       "  <tbody>\n",
       "    <tr>\n",
       "      <th>0</th>\n",
       "      <td>19995</td>\n",
       "      <td>Avatar</td>\n",
       "      <td>in the 22nd century, a parapleg marin is dispa...</td>\n",
       "    </tr>\n",
       "  </tbody>\n",
       "</table>\n",
       "</div>"
      ],
      "text/plain": [
       "   movie_id   title                                               tags\n",
       "0     19995  Avatar  in the 22nd century, a parapleg marin is dispa..."
      ]
     },
     "execution_count": 82,
     "metadata": {},
     "output_type": "execute_result"
    }
   ],
   "source": [
    "new_data[new_data[\"title\"]==\"Avatar\"]"
   ]
  },
  {
   "cell_type": "code",
   "execution_count": 83,
   "id": "f050fb69-6fd5-4336-86d4-f8ea4a0044b8",
   "metadata": {
    "tags": []
   },
   "outputs": [
    {
     "data": {
      "text/plain": [
       "0"
      ]
     },
     "execution_count": 83,
     "metadata": {},
     "output_type": "execute_result"
    }
   ],
   "source": [
    "new_data[new_data[\"title\"]==\"Avatar\"].index[0] # index position of avatar is 0 ."
   ]
  },
  {
   "cell_type": "code",
   "execution_count": 84,
   "id": "8ee82a09-5126-4a71-95b5-22192414e44c",
   "metadata": {
    "tags": []
   },
   "outputs": [
    {
     "data": {
      "text/plain": [
       "119"
      ]
     },
     "execution_count": 84,
     "metadata": {},
     "output_type": "execute_result"
    }
   ],
   "source": [
    "new_data[new_data[\"title\"]==\"Batman Begins\"].index[0] #index position of batman begins is 119"
   ]
  },
  {
   "cell_type": "code",
   "execution_count": null,
   "id": "6710c56e-9f28-4cce-85fa-320576c76b69",
   "metadata": {
    "tags": []
   },
   "outputs": [],
   "source": [
    "# we need to to sorting but there is a prblm "
   ]
  },
  {
   "cell_type": "code",
   "execution_count": 85,
   "id": "546f08f3-1696-41c1-af39-3646d3a9048d",
   "metadata": {
    "tags": []
   },
   "outputs": [
    {
     "data": {
      "text/plain": [
       "[1.0000000000000002,\n",
       " 0.24595492912420727,\n",
       " 0.23333333333333336,\n",
       " 0.19611613513818404,\n",
       " 0.18490006540840975,\n",
       " 0.18257418583505536,\n",
       " 0.1767766952966369,\n",
       " 0.16412198797244368,\n",
       " 0.16169041669088866,\n",
       " 0.158113883008419,\n",
       " 0.15499685165842572,\n",
       " 0.15430334996209194,\n",
       " 0.15342910298305393,\n",
       " 0.15075567228888181,\n",
       " 0.14744195615489716,\n",
       " 0.14506471329641488,\n",
       " 0.14433756729740646,\n",
       " 0.1439780709302267,\n",
       " 0.14142135623730953,\n",
       " 0.14142135623730953,\n",
       " 0.14142135623730953,\n",
       " 0.1405456737852613,\n",
       " 0.13867504905630731,\n",
       " 0.13608276348795437,\n",
       " 0.13608276348795437,\n",
       " 0.1336306209562122,\n",
       " 0.1336306209562122,\n",
       " 0.13130643285972257,\n",
       " 0.1307440900921227,\n",
       " 0.1307440900921227,\n",
       " 0.12909944487358055,\n",
       " 0.12909944487358055,\n",
       " 0.12909944487358055,\n",
       " 0.1270001270001905,\n",
       " 0.1270001270001905,\n",
       " 0.12598815766974242,\n",
       " 0.12598815766974242,\n",
       " 0.125,\n",
       " 0.125,\n",
       " 0.125,\n",
       " 0.125,\n",
       " 0.12274328238644315,\n",
       " 0.12171612389003691,\n",
       " 0.12171612389003691,\n",
       " 0.12171612389003691,\n",
       " 0.12171612389003691,\n",
       " 0.12171612389003691,\n",
       " 0.12126781251816648,\n",
       " 0.12126781251816648,\n",
       " 0.12071432805669138,\n",
       " 0.11973686801784995,\n",
       " 0.11952286093343936,\n",
       " 0.11952286093343936,\n",
       " 0.11785113019775793,\n",
       " 0.11785113019775793,\n",
       " 0.11785113019775793,\n",
       " 0.11785113019775793,\n",
       " 0.11785113019775793,\n",
       " 0.11785113019775793,\n",
       " 0.11785113019775793,\n",
       " 0.1162476387438193,\n",
       " 0.1147078669352809,\n",
       " 0.1147078669352809,\n",
       " 0.1143323900950059,\n",
       " 0.1143323900950059,\n",
       " 0.1143323900950059,\n",
       " 0.1143323900950059,\n",
       " 0.1143323900950059,\n",
       " 0.1143323900950059,\n",
       " 0.1143323900950059,\n",
       " 0.1143323900950059,\n",
       " 0.11322770341445959,\n",
       " 0.11322770341445959,\n",
       " 0.11322770341445959,\n",
       " 0.11322770341445959,\n",
       " 0.11268723396380222,\n",
       " 0.11111111111111113,\n",
       " 0.11111111111111113,\n",
       " 0.11111111111111113,\n",
       " 0.11111111111111113,\n",
       " 0.11111111111111113,\n",
       " 0.11043152607484656,\n",
       " 0.10910894511799621,\n",
       " 0.10814761408717502,\n",
       " 0.10814761408717502,\n",
       " 0.10814761408717502,\n",
       " 0.10814761408717502,\n",
       " 0.10814761408717502,\n",
       " 0.10814761408717502,\n",
       " 0.10783277320343843,\n",
       " 0.10660035817780522,\n",
       " 0.10660035817780522,\n",
       " 0.10660035817780522,\n",
       " 0.10660035817780522,\n",
       " 0.10540925533894599,\n",
       " 0.10540925533894599,\n",
       " 0.10540925533894599,\n",
       " 0.10540925533894599,\n",
       " 0.10540925533894599,\n",
       " 0.10540925533894599,\n",
       " 0.10540925533894599,\n",
       " 0.10540925533894599,\n",
       " 0.10425720702853739,\n",
       " 0.10314212462587935,\n",
       " 0.10314212462587935,\n",
       " 0.10314212462587935,\n",
       " 0.10286889997472795,\n",
       " 0.10286889997472795,\n",
       " 0.10286889997472795,\n",
       " 0.10286889997472795,\n",
       " 0.10286889997472795,\n",
       " 0.10286889997472795,\n",
       " 0.10101525445522108,\n",
       " 0.10050378152592121,\n",
       " 0.10050378152592121,\n",
       " 0.10050378152592121,\n",
       " 0.10050378152592121,\n",
       " 0.10050378152592121,\n",
       " 0.10050378152592121,\n",
       " 0.10050378152592121,\n",
       " 0.10050378152592121,\n",
       " 0.10050378152592121,\n",
       " 0.10050378152592121,\n",
       " 0.10050378152592121,\n",
       " 0.09901475429766743,\n",
       " 0.09901475429766743,\n",
       " 0.09901475429766743,\n",
       " 0.09829463743659811,\n",
       " 0.09829463743659811,\n",
       " 0.09829463743659811,\n",
       " 0.09829463743659811,\n",
       " 0.09622504486493764,\n",
       " 0.09622504486493764,\n",
       " 0.09622504486493764,\n",
       " 0.09622504486493764,\n",
       " 0.09622504486493764,\n",
       " 0.09622504486493764,\n",
       " 0.09622504486493764,\n",
       " 0.09622504486493763,\n",
       " 0.09449111825230681,\n",
       " 0.09449111825230681,\n",
       " 0.09449111825230681,\n",
       " 0.09428090415820635,\n",
       " 0.09428090415820635,\n",
       " 0.09428090415820635,\n",
       " 0.09428090415820635,\n",
       " 0.09428090415820635,\n",
       " 0.09428090415820635,\n",
       " 0.09381300596403892,\n",
       " 0.09365858115816941,\n",
       " 0.09284766908852593,\n",
       " 0.09284766908852593,\n",
       " 0.09284766908852593,\n",
       " 0.09245003270420488,\n",
       " 0.09245003270420488,\n",
       " 0.09245003270420488,\n",
       " 0.09245003270420488,\n",
       " 0.09245003270420488,\n",
       " 0.09205746178983236,\n",
       " 0.0907218423253029,\n",
       " 0.0907218423253029,\n",
       " 0.0907218423253029,\n",
       " 0.0907218423253029,\n",
       " 0.0907218423253029,\n",
       " 0.0907218423253029,\n",
       " 0.0907218423253029,\n",
       " 0.0907218423253029,\n",
       " 0.0907218423253029,\n",
       " 0.09053574604251854,\n",
       " 0.09053574604251854,\n",
       " 0.08980265101338747,\n",
       " 0.08948747402853659,\n",
       " 0.0890870806374748,\n",
       " 0.0890870806374748,\n",
       " 0.0890870806374748,\n",
       " 0.0890870806374748,\n",
       " 0.0890870806374748,\n",
       " 0.0890870806374748,\n",
       " 0.0890870806374748,\n",
       " 0.0890870806374748,\n",
       " 0.0890870806374748,\n",
       " 0.08838834764831845,\n",
       " 0.08770580193070293,\n",
       " 0.08753762190648172,\n",
       " 0.08753762190648172,\n",
       " 0.08753762190648172,\n",
       " 0.08711806224821947,\n",
       " 0.08606629658238704,\n",
       " 0.08606629658238704,\n",
       " 0.08606629658238704,\n",
       " 0.08606629658238704,\n",
       " 0.08606629658238704,\n",
       " 0.08606629658238704,\n",
       " 0.08466675133346034,\n",
       " 0.08466675133346034,\n",
       " 0.08466675133346034,\n",
       " 0.08466675133346034,\n",
       " 0.08466675133346034,\n",
       " 0.08466675133346034,\n",
       " 0.08466675133346034,\n",
       " 0.08466675133346034,\n",
       " 0.08466675133346034,\n",
       " 0.08466675133346034,\n",
       " 0.08391813582966891,\n",
       " 0.08333333333333334,\n",
       " 0.08333333333333334,\n",
       " 0.08333333333333334,\n",
       " 0.08333333333333333,\n",
       " 0.08333333333333333,\n",
       " 0.08333333333333333,\n",
       " 0.08333333333333333,\n",
       " 0.08333333333333333,\n",
       " 0.08333333333333333,\n",
       " 0.08333333333333333,\n",
       " 0.08333333333333333,\n",
       " 0.08333333333333333,\n",
       " 0.08333333333333333,\n",
       " 0.08333333333333333,\n",
       " 0.08333333333333333,\n",
       " 0.08237360842869541,\n",
       " 0.08219949365267866,\n",
       " 0.08206099398622184,\n",
       " 0.08206099398622184,\n",
       " 0.08206099398622184,\n",
       " 0.08206099398622184,\n",
       " 0.08206099398622184,\n",
       " 0.08206099398622184,\n",
       " 0.08206099398622184,\n",
       " 0.08206099398622184,\n",
       " 0.08084520834544433,\n",
       " 0.08084520834544433,\n",
       " 0.08084520834544433,\n",
       " 0.08084520834544433,\n",
       " 0.08084520834544433,\n",
       " 0.08084520834544433,\n",
       " 0.08025723539051281,\n",
       " 0.07968190728895957,\n",
       " 0.07968190728895957,\n",
       " 0.07968190728895957,\n",
       " 0.07968190728895957,\n",
       " 0.07856742013183862,\n",
       " 0.07856742013183862,\n",
       " 0.07856742013183862,\n",
       " 0.07856742013183862,\n",
       " 0.07856742013183862,\n",
       " 0.07856742013183862,\n",
       " 0.07856742013183862,\n",
       " 0.07856742013183862,\n",
       " 0.07856742013183862,\n",
       " 0.07856742013183862,\n",
       " 0.07856742013183862,\n",
       " 0.07808688094430304,\n",
       " 0.07749842582921286,\n",
       " 0.07749842582921286,\n",
       " 0.07749842582921286,\n",
       " 0.07749842582921286,\n",
       " 0.07749842582921286,\n",
       " 0.07749842582921286,\n",
       " 0.07749842582921286,\n",
       " 0.07749842582921286,\n",
       " 0.07749842582921286,\n",
       " 0.07749842582921286,\n",
       " 0.07647191129018727,\n",
       " 0.07647191129018727,\n",
       " 0.07647191129018727,\n",
       " 0.07647191129018727,\n",
       " 0.07647191129018727,\n",
       " 0.07647191129018727,\n",
       " 0.07647191129018727,\n",
       " 0.07647191129018727,\n",
       " 0.07647191129018727,\n",
       " 0.07647191129018727,\n",
       " 0.07647191129018727,\n",
       " 0.07647191129018727,\n",
       " 0.07548513560963972,\n",
       " 0.07548513560963972,\n",
       " 0.07548513560963972,\n",
       " 0.07548513560963972,\n",
       " 0.07548513560963972,\n",
       " 0.07548513560963972,\n",
       " 0.07548513560963972,\n",
       " 0.07548513560963972,\n",
       " 0.074535599249993,\n",
       " 0.074535599249993,\n",
       " 0.074535599249993,\n",
       " 0.074535599249993,\n",
       " 0.074535599249993,\n",
       " 0.074535599249993,\n",
       " 0.074535599249993,\n",
       " 0.074535599249993,\n",
       " 0.074535599249993,\n",
       " 0.074535599249993,\n",
       " 0.074535599249993,\n",
       " 0.074535599249993,\n",
       " 0.074535599249993,\n",
       " 0.074535599249993,\n",
       " 0.074535599249993,\n",
       " 0.07412493166611013,\n",
       " 0.07362101738323104,\n",
       " 0.07362101738323104,\n",
       " 0.07362101738323104,\n",
       " 0.07362101738323104,\n",
       " 0.07332355751067665,\n",
       " 0.0727392967453308,\n",
       " 0.0727392967453308,\n",
       " 0.0727392967453308,\n",
       " 0.0727392967453308,\n",
       " 0.0727392967453308,\n",
       " 0.0727392967453308,\n",
       " 0.0727392967453308,\n",
       " 0.0727392967453308,\n",
       " 0.0727392967453308,\n",
       " 0.0727392967453308,\n",
       " 0.07188851546895896,\n",
       " 0.07188851546895896,\n",
       " 0.07188851546895896,\n",
       " 0.07188851546895896,\n",
       " 0.07188851546895896,\n",
       " 0.07188851546895896,\n",
       " 0.07106690545187015,\n",
       " 0.07106690545187015,\n",
       " 0.07106690545187015,\n",
       " 0.07106690545187015,\n",
       " 0.07106690545187015,\n",
       " 0.07106690545187015,\n",
       " 0.07106690545187015,\n",
       " 0.07106690545187015,\n",
       " 0.07106690545187015,\n",
       " 0.07106690545187015,\n",
       " 0.07106690545187015,\n",
       " 0.07106690545187015,\n",
       " 0.07106690545187015,\n",
       " 0.07106690545187015,\n",
       " 0.07106690545187015,\n",
       " 0.07027283689263066,\n",
       " 0.07027283689263066,\n",
       " 0.07027283689263066,\n",
       " 0.07027283689263066,\n",
       " 0.07027283689263066,\n",
       " 0.07027283689263066,\n",
       " 0.07027283689263066,\n",
       " 0.07027283689263066,\n",
       " 0.06950480468569159,\n",
       " 0.06950480468569159,\n",
       " 0.06950480468569159,\n",
       " 0.06950480468569159,\n",
       " 0.06950480468569159,\n",
       " 0.0687614164172529,\n",
       " 0.0687614164172529,\n",
       " 0.0687614164172529,\n",
       " 0.0687614164172529,\n",
       " 0.0687614164172529,\n",
       " 0.06804138174397718,\n",
       " 0.06804138174397718,\n",
       " 0.06804138174397718,\n",
       " 0.06804138174397718,\n",
       " 0.06804138174397718,\n",
       " 0.06804138174397718,\n",
       " 0.06804138174397718,\n",
       " 0.06804138174397718,\n",
       " 0.06804138174397718,\n",
       " 0.06804138174397718,\n",
       " 0.06804138174397718,\n",
       " 0.06804138174397718,\n",
       " 0.06804138174397718,\n",
       " 0.06804138174397718,\n",
       " 0.06804138174397718,\n",
       " 0.06804138174397718,\n",
       " 0.06804138174397718,\n",
       " 0.06804138174397718,\n",
       " 0.06804138174397718,\n",
       " 0.06804138174397718,\n",
       " 0.06804138174397718,\n",
       " 0.06804138174397718,\n",
       " 0.06804138174397718,\n",
       " 0.06741998624632423,\n",
       " 0.06734350297014739,\n",
       " 0.06734350297014739,\n",
       " 0.06734350297014739,\n",
       " 0.06734350297014739,\n",
       " 0.06734350297014739,\n",
       " 0.06666666666666668,\n",
       " 0.06666666666666668,\n",
       " 0.06666666666666668,\n",
       " 0.06666666666666668,\n",
       " 0.06666666666666668,\n",
       " 0.06666666666666668,\n",
       " 0.06666666666666668,\n",
       " 0.06600983619844496,\n",
       " 0.06600983619844496,\n",
       " 0.06537204504606135,\n",
       " 0.06537204504606135,\n",
       " 0.06537204504606135,\n",
       " 0.06537204504606135,\n",
       " 0.06537204504606135,\n",
       " 0.06537204504606135,\n",
       " 0.06537204504606135,\n",
       " 0.06537204504606135,\n",
       " 0.06537204504606135,\n",
       " 0.06537204504606135,\n",
       " 0.06537204504606135,\n",
       " 0.06537204504606135,\n",
       " 0.06537204504606135,\n",
       " 0.06537204504606135,\n",
       " 0.06537204504606135,\n",
       " 0.06537204504606135,\n",
       " 0.06537204504606135,\n",
       " 0.06537204504606135,\n",
       " 0.06537204504606135,\n",
       " 0.06537204504606135,\n",
       " 0.06537204504606135,\n",
       " 0.06537204504606135,\n",
       " 0.06537204504606135,\n",
       " 0.06537204504606135,\n",
       " 0.06537204504606135,\n",
       " 0.06537204504606135,\n",
       " 0.06509445549041194,\n",
       " 0.06475239082381762,\n",
       " 0.06475239082381762,\n",
       " 0.06415002990995843,\n",
       " 0.06415002990995843,\n",
       " 0.06415002990995843,\n",
       " 0.06415002990995843,\n",
       " 0.06356417261637283,\n",
       " 0.06356417261637283,\n",
       " 0.06356417261637283,\n",
       " 0.06356417261637283,\n",
       " 0.06356417261637283,\n",
       " 0.06299407883487121,\n",
       " 0.06299407883487121,\n",
       " 0.06299407883487121,\n",
       " 0.06299407883487121,\n",
       " 0.06299407883487121,\n",
       " 0.06299407883487121,\n",
       " 0.06299407883487121,\n",
       " 0.06299407883487121,\n",
       " 0.06299407883487121,\n",
       " 0.06299407883487121,\n",
       " 0.06299407883487121,\n",
       " 0.06299407883487121,\n",
       " 0.06299407883487121,\n",
       " 0.06299407883487121,\n",
       " 0.06299407883487121,\n",
       " 0.06299407883487121,\n",
       " 0.06299407883487121,\n",
       " 0.06299407883487121,\n",
       " 0.06299407883487121,\n",
       " 0.06299407883487121,\n",
       " 0.06299407883487121,\n",
       " 0.06299407883487121,\n",
       " 0.06299407883487121,\n",
       " 0.06299407883487121,\n",
       " 0.06299407883487121,\n",
       " 0.06243905410544627,\n",
       " 0.06243905410544627,\n",
       " 0.06243905410544627,\n",
       " 0.06189844605901729,\n",
       " 0.061371641193221575,\n",
       " 0.061371641193221575,\n",
       " 0.061371641193221575,\n",
       " 0.06085806194501846,\n",
       " 0.06085806194501846,\n",
       " 0.06085806194501846,\n",
       " 0.06085806194501846,\n",
       " 0.06085806194501846,\n",
       " 0.06085806194501846,\n",
       " 0.06085806194501846,\n",
       " 0.06085806194501846,\n",
       " 0.06085806194501846,\n",
       " 0.06085806194501846,\n",
       " 0.06085806194501846,\n",
       " 0.06085806194501846,\n",
       " 0.06085806194501846,\n",
       " 0.06085806194501846,\n",
       " 0.06085806194501846,\n",
       " 0.06085806194501846,\n",
       " 0.06085806194501846,\n",
       " 0.06085806194501846,\n",
       " 0.06085806194501846,\n",
       " 0.06085806194501846,\n",
       " 0.06085806194501846,\n",
       " 0.06085806194501846,\n",
       " 0.06085806194501846,\n",
       " 0.06085806194501846,\n",
       " 0.06085806194501846,\n",
       " 0.06085806194501846,\n",
       " 0.06085806194501846,\n",
       " 0.06085806194501846,\n",
       " 0.06085806194501846,\n",
       " 0.06085806194501846,\n",
       " 0.06085806194501846,\n",
       " 0.06085806194501846,\n",
       " 0.06085806194501846,\n",
       " 0.06085806194501846,\n",
       " 0.06085806194501846,\n",
       " 0.06035716402834569,\n",
       " 0.06035716402834569,\n",
       " 0.05986843400892498,\n",
       " 0.05986843400892498,\n",
       " 0.05939138709164986,\n",
       " 0.05892556509887897,\n",
       " 0.05892556509887897,\n",
       " 0.05892556509887897,\n",
       " 0.05892556509887897,\n",
       " 0.05892556509887897,\n",
       " 0.05892556509887897,\n",
       " 0.05892556509887897,\n",
       " 0.05892556509887897,\n",
       " 0.05892556509887897,\n",
       " 0.05892556509887897,\n",
       " 0.05892556509887897,\n",
       " 0.05892556509887897,\n",
       " 0.05892556509887897,\n",
       " 0.05892556509887897,\n",
       " 0.05892556509887897,\n",
       " 0.05892556509887897,\n",
       " 0.05892556509887897,\n",
       " 0.05892556509887897,\n",
       " 0.05892556509887897,\n",
       " 0.05892556509887897,\n",
       " 0.05892556509887897,\n",
       " 0.05892556509887897,\n",
       " 0.05892556509887897,\n",
       " 0.05892556509887897,\n",
       " 0.05892556509887897,\n",
       " 0.058470534620468625,\n",
       " 0.058470534620468625,\n",
       " 0.05802588531856595,\n",
       " 0.05759122837209068,\n",
       " 0.05716619504750295,\n",
       " 0.05716619504750295,\n",
       " 0.05716619504750295,\n",
       " 0.05716619504750295,\n",
       " 0.05716619504750295,\n",
       " 0.05716619504750295,\n",
       " 0.05716619504750295,\n",
       " 0.05716619504750295,\n",
       " 0.05716619504750295,\n",
       " 0.05716619504750295,\n",
       " 0.05716619504750295,\n",
       " 0.05716619504750295,\n",
       " 0.05716619504750295,\n",
       " 0.05716619504750295,\n",
       " 0.05716619504750295,\n",
       " 0.05716619504750295,\n",
       " 0.05716619504750295,\n",
       " 0.05716619504750295,\n",
       " 0.05716619504750295,\n",
       " 0.05716619504750295,\n",
       " 0.05716619504750295,\n",
       " 0.05716619504750295,\n",
       " 0.05716619504750295,\n",
       " 0.05716619504750295,\n",
       " 0.05716619504750295,\n",
       " 0.05716619504750295,\n",
       " 0.05716619504750295,\n",
       " 0.05716619504750295,\n",
       " 0.05716619504750295,\n",
       " 0.05716619504750295,\n",
       " 0.05716619504750295,\n",
       " 0.05698028822981899,\n",
       " 0.05675043538391658,\n",
       " 0.05675043538391658,\n",
       " 0.05634361698190111,\n",
       " 0.05634361698190111,\n",
       " 0.05634361698190111,\n",
       " 0.05634361698190111,\n",
       " 0.05594542388644594,\n",
       " 0.055555555555555566,\n",
       " 0.055555555555555566,\n",
       " 0.055555555555555566,\n",
       " 0.055555555555555566,\n",
       " 0.055555555555555566,\n",
       " 0.055555555555555566,\n",
       " 0.055555555555555566,\n",
       " 0.055555555555555566,\n",
       " 0.055555555555555566,\n",
       " 0.055555555555555566,\n",
       " 0.055555555555555566,\n",
       " 0.055555555555555566,\n",
       " 0.055555555555555566,\n",
       " 0.055555555555555566,\n",
       " 0.055555555555555566,\n",
       " 0.055555555555555566,\n",
       " 0.055555555555555566,\n",
       " 0.055555555555555566,\n",
       " 0.055555555555555566,\n",
       " 0.055555555555555566,\n",
       " 0.055555555555555566,\n",
       " 0.055555555555555566,\n",
       " 0.055555555555555566,\n",
       " 0.055555555555555566,\n",
       " 0.055555555555555566,\n",
       " 0.055555555555555566,\n",
       " 0.055555555555555566,\n",
       " 0.055555555555555566,\n",
       " 0.055555555555555566,\n",
       " 0.05517372590682454,\n",
       " 0.054799662435119106,\n",
       " 0.054554472558998104,\n",
       " 0.05443310539518173,\n",
       " 0.05407380704358751,\n",
       " 0.05407380704358751,\n",
       " 0.05407380704358751,\n",
       " 0.05407380704358751,\n",
       " 0.05407380704358751,\n",
       " 0.05407380704358751,\n",
       " 0.05407380704358751,\n",
       " 0.05407380704358751,\n",
       " 0.05407380704358751,\n",
       " 0.05407380704358751,\n",
       " 0.05407380704358751,\n",
       " 0.05407380704358751,\n",
       " 0.05407380704358751,\n",
       " 0.05407380704358751,\n",
       " 0.05407380704358751,\n",
       " 0.05407380704358751,\n",
       " 0.05407380704358751,\n",
       " 0.05407380704358751,\n",
       " 0.05407380704358751,\n",
       " 0.05407380704358751,\n",
       " 0.05407380704358751,\n",
       " 0.05407380704358751,\n",
       " 0.05407380704358751,\n",
       " 0.05407380704358751,\n",
       " 0.05407380704358751,\n",
       " 0.05407380704358751,\n",
       " 0.05407380704358751,\n",
       " 0.05407380704358751,\n",
       " 0.05407380704358751,\n",
       " 0.05407380704358751,\n",
       " 0.05407380704358751,\n",
       " 0.05407380704358751,\n",
       " 0.05372153093502536,\n",
       " 0.053376051268362375,\n",
       " 0.05303715227838201,\n",
       " 0.05303715227838201,\n",
       " 0.052704627669472995,\n",
       " 0.052704627669472995,\n",
       " 0.052704627669472995,\n",
       " 0.052704627669472995,\n",
       " 0.052704627669472995,\n",
       " 0.052704627669472995,\n",
       " 0.052704627669472995,\n",
       " 0.052704627669472995,\n",
       " 0.052704627669472995,\n",
       " 0.052704627669472995,\n",
       " 0.052704627669472995,\n",
       " 0.052704627669472995,\n",
       " 0.052704627669472995,\n",
       " 0.052704627669472995,\n",
       " 0.052704627669472995,\n",
       " 0.052704627669472995,\n",
       " 0.052704627669472995,\n",
       " 0.052704627669472995,\n",
       " 0.052704627669472995,\n",
       " 0.052704627669472995,\n",
       " 0.052704627669472995,\n",
       " 0.052704627669472995,\n",
       " 0.052704627669472995,\n",
       " 0.052704627669472995,\n",
       " 0.052704627669472995,\n",
       " 0.052704627669472995,\n",
       " 0.052704627669472995,\n",
       " 0.052704627669472995,\n",
       " 0.052704627669472995,\n",
       " 0.052704627669472995,\n",
       " 0.051434449987363975,\n",
       " 0.051434449987363975,\n",
       " 0.051434449987363975,\n",
       " 0.051434449987363975,\n",
       " 0.051434449987363975,\n",
       " 0.051434449987363975,\n",
       " 0.051434449987363975,\n",
       " 0.051434449987363975,\n",
       " 0.051434449987363975,\n",
       " 0.051434449987363975,\n",
       " 0.051434449987363975,\n",
       " 0.051434449987363975,\n",
       " 0.051434449987363975,\n",
       " 0.051434449987363975,\n",
       " 0.051434449987363975,\n",
       " 0.051434449987363975,\n",
       " 0.051434449987363975,\n",
       " 0.051434449987363975,\n",
       " 0.051434449987363975,\n",
       " 0.051434449987363975,\n",
       " 0.051434449987363975,\n",
       " 0.051434449987363975,\n",
       " 0.051434449987363975,\n",
       " 0.051434449987363975,\n",
       " 0.051434449987363975,\n",
       " 0.051434449987363975,\n",
       " 0.050539869571926896,\n",
       " 0.050251890762960605,\n",
       " 0.050251890762960605,\n",
       " 0.050251890762960605,\n",
       " 0.050251890762960605,\n",
       " 0.050251890762960605,\n",
       " 0.050251890762960605,\n",
       " 0.050251890762960605,\n",
       " 0.050251890762960605,\n",
       " 0.050251890762960605,\n",
       " 0.050251890762960605,\n",
       " 0.050251890762960605,\n",
       " 0.050251890762960605,\n",
       " 0.050251890762960605,\n",
       " 0.050251890762960605,\n",
       " 0.050251890762960605,\n",
       " 0.050251890762960605,\n",
       " 0.050251890762960605,\n",
       " 0.050251890762960605,\n",
       " 0.050251890762960605,\n",
       " 0.050251890762960605,\n",
       " 0.050251890762960605,\n",
       " 0.050251890762960605,\n",
       " 0.050251890762960605,\n",
       " 0.050251890762960605,\n",
       " 0.050251890762960605,\n",
       " 0.050251890762960605,\n",
       " 0.050251890762960605,\n",
       " 0.050251890762960605,\n",
       " 0.050251890762960605,\n",
       " 0.050251890762960605,\n",
       " 0.050251890762960605,\n",
       " 0.050251890762960605,\n",
       " 0.050251890762960605,\n",
       " 0.050251890762960605,\n",
       " 0.050251890762960605,\n",
       " 0.049416621110740085,\n",
       " 0.049416621110740085,\n",
       " 0.049147318718299055,\n",
       " 0.049147318718299055,\n",
       " 0.049147318718299055,\n",
       " 0.049147318718299055,\n",
       " 0.049147318718299055,\n",
       " 0.049147318718299055,\n",
       " 0.049147318718299055,\n",
       " 0.049147318718299055,\n",
       " 0.049147318718299055,\n",
       " 0.049147318718299055,\n",
       " 0.049147318718299055,\n",
       " 0.049147318718299055,\n",
       " 0.049147318718299055,\n",
       " 0.049147318718299055,\n",
       " 0.049147318718299055,\n",
       " 0.049147318718299055,\n",
       " 0.049147318718299055,\n",
       " 0.049147318718299055,\n",
       " 0.049147318718299055,\n",
       " 0.049147318718299055,\n",
       " 0.049147318718299055,\n",
       " 0.049147318718299055,\n",
       " 0.049147318718299055,\n",
       " 0.049147318718299055,\n",
       " 0.049147318718299055,\n",
       " 0.049147318718299055,\n",
       " 0.049147318718299055,\n",
       " 0.049147318718299055,\n",
       " 0.049147318718299055,\n",
       " 0.049147318718299055,\n",
       " 0.049147318718299055,\n",
       " 0.049147318718299055,\n",
       " 0.049147318718299055,\n",
       " 0.049147318718299055,\n",
       " 0.049147318718299055,\n",
       " 0.049147318718299055,\n",
       " 0.04811252243246882,\n",
       " 0.04811252243246882,\n",
       " 0.04811252243246882,\n",
       " 0.04811252243246882,\n",
       " 0.04811252243246882,\n",
       " 0.04811252243246882,\n",
       " 0.04811252243246882,\n",
       " 0.04811252243246882,\n",
       " 0.04811252243246882,\n",
       " 0.04811252243246882,\n",
       " 0.04811252243246882,\n",
       " 0.04811252243246882,\n",
       " 0.04811252243246882,\n",
       " 0.04811252243246882,\n",
       " 0.04811252243246882,\n",
       " 0.04811252243246882,\n",
       " 0.04811252243246882,\n",
       " 0.04811252243246882,\n",
       " 0.04811252243246882,\n",
       " 0.04811252243246882,\n",
       " 0.04811252243246882,\n",
       " 0.04811252243246882,\n",
       " 0.04786387724118255,\n",
       " 0.047140452079103175,\n",
       " 0.047140452079103175,\n",
       " 0.047140452079103175,\n",
       " 0.047140452079103175,\n",
       " 0.047140452079103175,\n",
       " 0.047140452079103175,\n",
       " 0.047140452079103175,\n",
       " 0.047140452079103175,\n",
       " 0.047140452079103175,\n",
       " 0.047140452079103175,\n",
       " 0.047140452079103175,\n",
       " 0.047140452079103175,\n",
       " 0.047140452079103175,\n",
       " 0.047140452079103175,\n",
       " 0.047140452079103175,\n",
       " 0.047140452079103175,\n",
       " 0.047140452079103175,\n",
       " 0.047140452079103175,\n",
       " 0.047140452079103175,\n",
       " 0.047140452079103175,\n",
       " 0.047140452079103175,\n",
       " 0.047140452079103175,\n",
       " 0.047140452079103175,\n",
       " 0.047140452079103175,\n",
       " 0.047140452079103175,\n",
       " 0.047140452079103175,\n",
       " 0.047140452079103175,\n",
       " 0.047140452079103175,\n",
       " 0.047140452079103175,\n",
       " 0.047140452079103175,\n",
       " 0.047140452079103175,\n",
       " 0.04690650298201946,\n",
       " 0.04667600280093367,\n",
       " 0.04622501635210244,\n",
       " 0.04622501635210244,\n",
       " 0.04622501635210244,\n",
       " 0.04622501635210244,\n",
       " 0.04622501635210244,\n",
       " 0.04622501635210244,\n",
       " 0.04622501635210244,\n",
       " 0.04622501635210244,\n",
       " 0.04622501635210244,\n",
       " 0.04622501635210244,\n",
       " 0.04622501635210244,\n",
       " 0.04622501635210244,\n",
       " 0.04622501635210244,\n",
       " 0.04622501635210244,\n",
       " 0.04622501635210244,\n",
       " 0.04622501635210244,\n",
       " 0.04622501635210244,\n",
       " 0.04622501635210244,\n",
       " 0.04622501635210244,\n",
       " 0.04622501635210244,\n",
       " 0.04622501635210244,\n",
       " 0.04622501635210244,\n",
       " 0.04622501635210244,\n",
       " 0.04622501635210244,\n",
       " 0.04622501635210244,\n",
       " 0.04622501635210244,\n",
       " 0.04622501635210244,\n",
       " 0.04622501635210244,\n",
       " 0.04545454545454546,\n",
       " 0.04536092116265145,\n",
       " 0.04536092116265145,\n",
       " 0.04536092116265145,\n",
       " 0.04536092116265145,\n",
       " 0.04536092116265145,\n",
       " 0.04536092116265145,\n",
       " 0.04536092116265145,\n",
       " 0.04536092116265145,\n",
       " 0.04536092116265145,\n",
       " 0.04536092116265145,\n",
       " 0.04536092116265145,\n",
       " 0.04536092116265145,\n",
       " 0.04536092116265145,\n",
       " 0.04536092116265145,\n",
       " 0.04536092116265145,\n",
       " 0.04536092116265145,\n",
       " 0.04536092116265145,\n",
       " 0.04536092116265145,\n",
       " 0.04536092116265145,\n",
       " 0.04536092116265145,\n",
       " 0.04536092116265145,\n",
       " 0.04536092116265145,\n",
       " 0.04536092116265145,\n",
       " 0.04536092116265145,\n",
       " 0.04536092116265145,\n",
       " 0.04536092116265145,\n",
       " 0.04536092116265145,\n",
       " 0.04536092116265145,\n",
       " 0.04536092116265145,\n",
       " 0.04536092116265145,\n",
       " 0.04536092116265145,\n",
       " 0.04536092116265145,\n",
       " 0.04536092116265145,\n",
       " 0.04536092116265145,\n",
       " 0.04536092116265145,\n",
       " 0.04536092116265145,\n",
       " 0.04536092116265145,\n",
       " 0.045152364098573095,\n",
       " 0.0445435403187374,\n",
       " 0.0445435403187374,\n",
       " 0.0445435403187374,\n",
       " 0.0445435403187374,\n",
       " 0.0445435403187374,\n",
       " 0.0445435403187374,\n",
       " 0.0445435403187374,\n",
       " 0.0445435403187374,\n",
       " 0.0445435403187374,\n",
       " 0.0445435403187374,\n",
       " 0.0445435403187374,\n",
       " 0.0445435403187374,\n",
       " 0.0445435403187374,\n",
       " 0.0445435403187374,\n",
       " 0.0445435403187374,\n",
       " 0.0445435403187374,\n",
       " 0.0445435403187374,\n",
       " 0.0445435403187374,\n",
       " 0.0445435403187374,\n",
       " 0.0445435403187374,\n",
       " 0.0445435403187374,\n",
       " 0.0445435403187374,\n",
       " 0.0445435403187374,\n",
       " 0.0445435403187374,\n",
       " 0.0445435403187374,\n",
       " 0.0445435403187374,\n",
       " 0.0445435403187374,\n",
       " 0.0445435403187374,\n",
       " 0.0445435403187374,\n",
       " 0.0445435403187374,\n",
       " 0.0445435403187374,\n",
       " 0.04376881095324086,\n",
       " 0.04376881095324086,\n",
       " 0.04376881095324086,\n",
       " 0.04376881095324086,\n",
       " 0.04376881095324086,\n",
       " 0.04376881095324086,\n",
       " 0.04376881095324086,\n",
       " 0.04376881095324086,\n",
       " 0.04376881095324086,\n",
       " 0.04376881095324086,\n",
       " 0.04376881095324086,\n",
       " 0.04376881095324086,\n",
       " 0.04376881095324086,\n",
       " 0.04376881095324086,\n",
       " 0.04376881095324086,\n",
       " 0.04376881095324086,\n",
       " 0.04376881095324086,\n",
       " 0.04376881095324086,\n",
       " 0.04376881095324086,\n",
       " 0.04376881095324086,\n",
       " 0.04376881095324086,\n",
       " 0.04376881095324086,\n",
       " 0.04376881095324086,\n",
       " 0.04376881095324086,\n",
       " 0.04376881095324086,\n",
       " 0.04376881095324086,\n",
       " 0.04376881095324086,\n",
       " 0.04376881095324086,\n",
       " 0.0435813633640409,\n",
       " 0.04303314829119352,\n",
       " 0.04303314829119352,\n",
       " 0.04303314829119352,\n",
       " 0.04303314829119352,\n",
       " 0.04303314829119352,\n",
       " 0.04303314829119352,\n",
       " 0.04303314829119352,\n",
       " 0.04303314829119352,\n",
       " 0.04303314829119352,\n",
       " 0.04303314829119352,\n",
       " 0.04303314829119352,\n",
       " 0.04303314829119352,\n",
       " 0.04303314829119352,\n",
       " 0.04303314829119352,\n",
       " 0.04303314829119352,\n",
       " 0.04303314829119352,\n",
       " 0.04303314829119352,\n",
       " 0.04303314829119352,\n",
       " 0.04303314829119352,\n",
       " 0.04303314829119352,\n",
       " 0.04303314829119352,\n",
       " 0.04303314829119352,\n",
       " 0.04303314829119352,\n",
       " 0.04303314829119352,\n",
       " 0.04303314829119352,\n",
       " 0.04303314829119352,\n",
       " 0.04303314829119352,\n",
       " 0.04303314829119352,\n",
       " 0.04303314829119352,\n",
       " 0.04233337566673017,\n",
       " 0.04233337566673017,\n",
       " 0.04233337566673017,\n",
       " 0.04233337566673017,\n",
       " 0.04233337566673017,\n",
       " 0.04233337566673017,\n",
       " 0.04233337566673017,\n",
       " 0.04233337566673017,\n",
       " 0.04233337566673017,\n",
       " 0.04233337566673017,\n",
       " 0.04233337566673017,\n",
       " 0.04233337566673017,\n",
       " 0.04233337566673017,\n",
       " 0.04233337566673017,\n",
       " 0.04233337566673017,\n",
       " 0.04233337566673017,\n",
       " 0.04233337566673017,\n",
       " 0.04233337566673017,\n",
       " 0.04233337566673017,\n",
       " 0.04233337566673017,\n",
       " 0.04233337566673017,\n",
       " ...]"
      ]
     },
     "execution_count": 85,
     "metadata": {},
     "output_type": "execute_result"
    }
   ],
   "source": [
    "sorted(similarity[0],reverse=True) # we have those movies which are more similar \n",
    "#sorting karne se simislrity me index position sb idh udhr ho jaega \n",
    "# to hame iska index [osition pkdh k rkhna pdega during sorting ]\n",
    "#for that we will call enumerate function  "
   ]
  },
  {
   "cell_type": "code",
   "execution_count": 90,
   "id": "109913a2-0c07-4b9f-bfb0-ac3a0a92e7d0",
   "metadata": {
    "tags": []
   },
   "outputs": [],
   "source": [
    "def recommend(movie):\n",
    "    index = new_data[new_data['title'] == movie].index[0]\n",
    "    distances = sorted(enumerate(similarity[index]),reverse=True,key = lambda x: x[1])\n",
    "    for i in distances[1:6]:\n",
    "        print(new_data.iloc[i[0]].title)\n",
    "        "
   ]
  },
  {
   "cell_type": "code",
   "execution_count": 91,
   "id": "a2390276-bd08-4214-bba7-7f51536c3d09",
   "metadata": {
    "tags": []
   },
   "outputs": [
    {
     "name": "stdout",
     "output_type": "stream",
     "text": [
      "Gandhi, My Father\n",
      "Guiana 1838\n",
      "Ramanujan\n",
      "Barry Lyndon\n",
      "Partition\n"
     ]
    }
   ],
   "source": [
    "recommend('Gandhi')"
   ]
  },
  {
   "cell_type": "code",
   "execution_count": 93,
   "id": "c52240e5-0864-4db7-a6dd-cc84a9578dc4",
   "metadata": {
    "tags": []
   },
   "outputs": [
    {
     "name": "stdout",
     "output_type": "stream",
     "text": [
      "Tears of the Sun\n",
      "Apollo 18\n",
      "Bucky Larson: Born to Be a Star\n",
      "Risen\n",
      "Attack the Block\n"
     ]
    }
   ],
   "source": [
    "recommend(\"Avatar\")"
   ]
  },
  {
   "cell_type": "code",
   "execution_count": 94,
   "id": "6317f3ea-22d0-4830-9e60-3185899833a5",
   "metadata": {
    "tags": []
   },
   "outputs": [
    {
     "name": "stdout",
     "output_type": "stream",
     "text": [
      "Synecdoche, New York\n",
      "Copying Beethoven\n",
      "The Animal\n",
      "10th & Wolf\n",
      "The Shipping News\n"
     ]
    }
   ],
   "source": [
    "recommend(\"Batman Begins\")"
   ]
  },
  {
   "cell_type": "markdown",
   "id": "ff5e90b4-3024-446f-b236-4656931383b4",
   "metadata": {},
   "source": [
    "# Conclusion:\n",
    "\n",
    "The TMDB Movie Dataset provides a comprehensive and valuable resource for exploring\n",
    "the vast and dynamic world of cinema. With \"tmdb_5000_movies.csv\" and \"tmdb_5000_credits.csv\" \n",
    "at your disposal, you can delve into a wide range of movie-related analyses and investigations.\n",
    "\n",
    "Throughout this dataset, we've encountered a treasure trove of information \n",
    "about thousands of movies, spanning different genres, release years, and production budgets.\n",
    "We've gained insights into financial performance, audience reception, and critical acclaim \n",
    "for various films, allowing us to draw connections between budget, revenue, and user ratings.\n",
    "\n",
    "Moreover, \"tmdb_5000_credits.csv\" has allowed us to explore the individuals \n",
    "who contribute to the creation of these cinematic masterpieces. We've uncovered details about actors\n",
    "directors, producers, and other crew members, shedding light on their roles and collaborations\n",
    "within the industry.\n",
    "\n",
    "As we conclude our exploration of the TMDB Movie Dataset, \n",
    "we're reminded of the limitless possibilities it offers. From predicting a film's \n",
    "success based on its attributes to analyzing the evolution of movie genres over time, \n",
    "this dataset empowers researchers, data scientists, and film enthusiasts alike to embark on exciting journeys of discovery.\n",
    "\n",
    "Whether you're passionate about movies or simply eager to harness the power of data for \n",
    "insightful analysis, the TMDB Movie Dataset stands as a valuable companion on your\n",
    "quest for knowledge in the realm of cinema.\n",
    "\n",
    "So, let the credits roll and the analysis begin, as we continue to uncover the stories,\n",
    "trends, and magic that make the world of movies so captivating and endlessly fascinating.\n",
    "\n",
    "\n",
    "\n",
    "\n",
    "\n"
   ]
  }
 ],
 "metadata": {
  "kernelspec": {
   "display_name": "Python 3 (ipykernel)",
   "language": "python",
   "name": "python3"
  },
  "language_info": {
   "codemirror_mode": {
    "name": "ipython",
    "version": 3
   },
   "file_extension": ".py",
   "mimetype": "text/x-python",
   "name": "python",
   "nbconvert_exporter": "python",
   "pygments_lexer": "ipython3",
   "version": "3.11.4"
  }
 },
 "nbformat": 4,
 "nbformat_minor": 5
}
